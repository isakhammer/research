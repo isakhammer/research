{
  "nbformat": 4,
  "nbformat_minor": 0,
  "metadata": {
    "kernelspec": {
      "display_name": "Python 3",
      "language": "python",
      "name": "python3"
    },
    "language_info": {
      "codemirror_mode": {
        "name": "ipython",
        "version": 3
      },
      "file_extension": ".py",
      "mimetype": "text/x-python",
      "name": "python",
      "nbconvert_exporter": "python",
      "pygments_lexer": "ipython3",
      "version": "3.8.2"
    },
    "colab": {
      "name": "assignment-3.ipynb",
      "provenance": []
    }
  },
  "cells": [
    {
      "cell_type": "markdown",
      "metadata": {
        "id": "Vz9tK79SnM6S"
      },
      "source": [
        "# TMA4215 - Assignment 3 - Linear Multistep Methods\n",
        "\n",
        "**Deadline:** Wednesday September 30, 11:59PM\n",
        "\n",
        "**For approval:** Upload a Jupyter Notebook in Blackboard with code/answers. Answer Control questions in Blackboard.\n",
        "\n",
        "**Problem 1.** Predictor corrector method. Implementation.\n",
        "You shall write a function that implements a Predictor-Corrector scheme as described below. You shall demonstrate that it works on a specified test problem.\n",
        "\n",
        "We consider a pair of two-step methods, the predictor [P] is the two-step (explicit) Adams-Bashforth method, the corrector is the two-step (implicit) Adams-Moulton method. They read as follows\n",
        "\n",
        "\\begin{align*}\n",
        "[\\text{Adams-Bashforth}]\\quad & u_{n+2} - u_{n+1} = h\\,\\left(\\frac32 f_{n+1} - \\frac12 f_n\\right) \\\\\n",
        "[\\text{Adams-Moulton}]\\quad & u_{n+2} - u_{n+1} = h\\, \\left(\\frac{5}{12}f_{n+2}+\\frac23 f_{n+1}-\\frac{1}{12} f_n\\right)\n",
        "\\end{align*}\n",
        "\n",
        "With reference to the lectures and section 11.7 in the book (see in particular Example 11.8 on page 514) you shall implement the method as in *PECE* mode with constant step size. You need a starting method for the first step. You may also need a completion method for the last step. For this you will use the second order explicit two-stage Runge-Kutta method known as improved Euler (other names are Heun's method or explicit trapeziodal method). \n",
        "\n",
        "$$\n",
        "\\begin{array}{c|rr}\n",
        "0 & 0 \\\\\n",
        "1 & 1 \\\\ \\hline\n",
        "  & \\frac12 & \\frac12\n",
        "\\end{array}\n",
        "$$\n",
        "\n",
        "So the computation sequence is\n",
        "1. Take one step with the improved Euler method and step size $h$\n",
        "2. Do time stepping with the Predictor-Corrector method up to the largest integer $n$ such that $t_n=t_0+nh<T$.\n",
        "3. If $t_n<T$, Take one final step with the improved Euler method, using the stepsize $h_f = T-t_n$.\n",
        "\n",
        "\n",
        "**(a)** Write a Python function *ABM2* as indicated in the template below. Its input parameters are\n",
        "* f  : A function f(t,y) that defines the differental equation\n",
        "* y0 : The intial value (vector)\n",
        "* t0 : The initial time\n",
        "* T  : The final time\n",
        "* h  : The (constant) stepsize\n",
        "\n",
        "The output should be \n",
        "* TT : A numpy array containing all the Nsteps+1 time values t0,...,T\n",
        "* YY : A numpy array of dimension (m,Nsteps+1) where m is the dimension of the ODE\n",
        "\n",
        "(For Problem 1c You may also want to allow for a version that returns only the final value, the solution at time T)\n",
        "\n",
        "**(b)** Test it out on the Lotka-Volterra Volterra problem\n",
        "\n",
        "\\begin{align*}\n",
        "\\dot{u} &= u(v-2) & u(0)&=2\\\\\n",
        "\\dot{v} &= v(1-u) & v(0)&=1\n",
        "\\end{align*}\n",
        "\n",
        "First write the function *LV(t,y)*. Generate a phase plot, where you use $h=0.08$. This means to plot *y[1]* vs\n",
        "*y[0]* that is, *v* vs *u* in the Lotka-Volterra system above. You should get a closed loop (a periodic solution). Make $T$ just big enough to complete one period.\n",
        "\n",
        "**Control question 1.** Using ABM2(LV,y0,t0,T,h) where $y_0=[2,1]^T$, $t_0=0$, $T=2$, $h=0.03$, what is the resulting approximation to $u(2)$?\n",
        "\n",
        "**(c)** You will now learn a very standard method for estimating the convergence order of the method. This is actually a great code verification tool when you are writing software for solving ODEs. We explain it in steps.\n",
        "\n",
        "1. Let $T$ be the final time in which you want to test (the order of) the method on a given problem.\n",
        "2. Compute a reference solution at $t=T$, i.e. an approximation *yexact* of high accuracy to the solution at $t=T$. This can be done in different ways. One is to make a call to a builtin function with strict tolerances, e.g. *scipy.integrate* seems to contain several solvers. Another option is to write a simple solver with good accuracy, you could do for instance the standard four stage fourth order Runge-Kutta method. To save you some work, we offer a simple implementation of this method below (RK4) that you can use if you prefer. The important thing with the reference solution is that it is accurate enough to estimate the smallest error in your test.\n",
        "3. Now, take a suitable range of log-spaced stepsizes. For our problem here, a first attempt could be to set\n",
        "*HH=numpy.logspace(-4,-1,20)* that gives you a numpy-array of 20 stepsizes log-spaced between $10^{-4}$ and $10^{-1}$.\n",
        "4. Run the method/implementation you want to test for all these stepsizes up to time $t=T$. For each stepsize $h$ in *HH* , compute  $\\|y_T(h)-y_{ex}\\|$ where $y_T(h)$ is your approximation at $t=T$ for this stepsize, and $y_{ex}$ is the reference solution *yexact*. Store these values in a numpy-array *err.\n",
        "5. Now make a loglog-plot of *err* vs *HH*. If the error behaves like $C h^p$ this should give a straight line of slope $p$ in the loglog-plot.\n",
        "6. Estimate the order as numbers. Since our hypothesis is that for a stepsize $h_i$, the corresponding error is of the form $\\mathrm{err}_i \\approx Ch_i^{p}$, we can estimate $p$ from two stepsizes $h_1$ and $h_2$.\n",
        "$$\n",
        "\\mathrm{err}_i \\approx Ch_i^{p},\\ i=1,2\\quad\\Rightarrow\\quad p \\approx \\frac{\\log\\frac{\\mathrm{err}_1}{\\mathrm{err}_2}}{\\log\\frac{h_1}{h_2}}\n",
        "$$\n",
        "You can compute this expression for every consecutive pair of stepsizes $(h_i, h_{i+1})$.\n",
        "\n",
        "In your Jupyter Notebook, please implement this order test for the Lotka-Volterra problem to estimate the order of the ABM2 method. In the test, use the LV-function from **(b)**, set $y_0=[2,1]^T$, $t_0=0$, $T=10$ and use stepsizes logspaced in the range $10^{-4},\\ldots,10^{-1}$.\n",
        "\n",
        "**Control question 2.** What seems to be the observed order of the ABM2 implementation described above.\n"
      ]
    },
    {
      "cell_type": "code",
      "metadata": {
        "id": "5EBzZgSPnM6T"
      },
      "source": [
        "#Answer to problem 1a)\n",
        "\n",
        "import numpy as np\n",
        "import matplotlib.pyplot as plt\n",
        "\n",
        "\n",
        "\n",
        "def AMB2(f,y_0,t_0,T,h):\n",
        "\n",
        "    N = int((T- t_0)/h)\n",
        "    TT = np.linspace(t_0, T, N)\n",
        "    YY = np.zeros((N, y_0.shape[0]))\n",
        "    YY[0] = y_0\n",
        "  \n",
        "    # Euler Startup\n",
        "    k1 = f(TT[0], YY[0])\n",
        "    k2 = f(TT[1], YY[0] + h*k1)\n",
        "    YY[1] = YY[0] + h*0.5*(k1 + k2)\n",
        "     \n",
        "    for i in range(2, N):\n",
        "      YY[i] =  h*( (3/2)*f(TT[i-1], YY[i-1]) - (1/2)*f(TT[i-2], YY[i-2])) + YY[i-1]\n",
        "    return TT, YY\n",
        "    \n",
        "\n",
        "def LV(t,y):\n",
        "    yd = np.array([y[0]*(y[1]-2), y[1]*(1-y[0])])\n",
        "    return yd\n",
        "\n",
        "\n",
        "\n",
        "\n",
        "\n",
        " "
      ],
      "execution_count": 157,
      "outputs": []
    },
    {
      "cell_type": "markdown",
      "metadata": {
        "id": "hpg73LxznM6W"
      },
      "source": [
        "**SUPPLIED FUNCTION RK4** (can be used to get reference solution in 1c)"
      ]
    },
    {
      "cell_type": "code",
      "metadata": {
        "id": "QNungbV7nM6W"
      },
      "source": [
        "\n",
        "\n",
        "def RK4(f,y0,t0,T,h):\n",
        "    ''' This version stores only the final value'''\n",
        "    N=int((T-t0)/h)\n",
        "    t=t0\n",
        "    y=y0\n",
        "    \n",
        "    for n in range(N):\n",
        "        K1 = f(t,y)\n",
        "        K2 = f(t+h/2,y+h/2*K1)\n",
        "        K3 = f(t+h/2,y+h/2*K2)\n",
        "        K4 = f(t+h,y+h*K3)\n",
        "        y  = y + h/6*(K1+2*K2+2*K3+K4)\n",
        "        t  = t+h\n",
        "    if t < T:\n",
        "        hf = T-t\n",
        "        K1 = f(t,y)\n",
        "        K2 = f(t+hf/2,y+hf/2*K1)\n",
        "        K3 = f(t+hf/2,y+hf/2*K2)\n",
        "        K4 = f(t+hf,y+hf*K3)\n",
        "        y  = y + hf/6*(K1+2*K2+2*K3+K4)\n",
        "    return y\n",
        "\n",
        "\n",
        "\n"
      ],
      "execution_count": 158,
      "outputs": []
    },
    {
      "cell_type": "code",
      "metadata": {
        "id": "WIquoFtVg5ig"
      },
      "source": [
        "# T_end version\n",
        "def AMB2_end(f,y0,t0,T,h):\n",
        "\n",
        "    N = int((T- t_0)/h)\n",
        "    TT = np.linspace(t_0, T, N)\n",
        "    \n",
        "  \n",
        "    # Euler Startup\n",
        "    k1 = f(t0, y0)\n",
        "    k2 = f(TT[1], y0 + h*k1)\n",
        "    y1 = y0 + h*0.5*(k1 + k2)\n",
        "     \n",
        "    for i in range(2, N):\n",
        "      y2 =  h*( (3/2)*f(t + (i-1)*h, y1) - (1/2)*f(t + (i-2)*h,y0)) + y1\n",
        "      y0 = y1\n",
        "      y1 = y2\n",
        "      \n",
        "    return y2"
      ],
      "execution_count": 159,
      "outputs": []
    },
    {
      "cell_type": "code",
      "metadata": {
        "id": "jfI7ZQ3qnM6Z",
        "outputId": "332290e5-2e69-4590-8d08-6e522803777d",
        "colab": {
          "base_uri": "https://localhost:8080/",
          "height": 768
        }
      },
      "source": [
        "import matplotlib.pyplot as plt\n",
        "\n",
        "# Answer to 1b)\n",
        "print(\"Answer to 1b)\")\n",
        "'''Fill inn code here'''\n",
        "y_0 = np.array([2,1])\n",
        "t_0 = 0\n",
        "T = 10\n",
        "h = 0.08\n",
        "f = LV\n",
        "\n",
        "K = np.linspace(0,1,10)\n",
        "for k in K:\n",
        "  TT,YY = AMB2(f, k*y_0 , t_0 , T ,h)\n",
        "  plt.plot(YY[:,0],YY[:,1])\n",
        "plt.title(\"Phase Plot\")\n",
        "plt.xlabel(\"Time\")\n",
        "plt.ylabel(\"$f$\")\n",
        "plt.show()\n",
        "\n",
        "\n",
        "# Answer to Control question 1\n",
        "\n",
        "print(\"Answer to Control question 1\")\n",
        "'''Fill in code here'''\n",
        "\n",
        "y_0 = np.array([2,1])\n",
        "t_0 = 0\n",
        "T = 2\n",
        "h = 0.03\n",
        "f = LV\n",
        "\n",
        "\n",
        "TT,YY = AMB2(f, k*y_0 , t_0 , T ,h)\n",
        "\n",
        "\n",
        "print(\"Best guess for u\",  YY[-1, 1])\n",
        "\n",
        "\n",
        "\n",
        "# 1c)  order test \n",
        "\n",
        "print(\"\\n\\n Answer to 1c)\\n\")\n",
        "\n",
        "# Use RK4 to get a good estimate.\n",
        "f = LV\n",
        "t0 = 0\n",
        "T = 10\n",
        "y0 = np.array([1,1])\n",
        "h = 0.01\n",
        "\n",
        "HH = np.logspace(-4,-1,20)\n",
        "y_exact = RK4(f,y0,t0,T,h)\n",
        "YY_e = np.zeros(HH.shape)\n",
        "\n",
        "for i in range(HH.shape[0]):\n",
        "  y_AMB= AMB2_end(f,y0,t0,T,HH[i])\n",
        "  YY_e[i] = np.linalg.norm(y_AMB - y_exact)\n",
        "\n",
        "plt.plot(YY_e, HH)\n",
        "plt.yscale('log')\n",
        "plt.xscale('log')\n",
        "plt.xlabel(\"Stepsize $h$\")\n",
        "plt.ylabel(\"Trunciton Error \")\n",
        "\n",
        "plt.title(\"Error plot\")\n",
        "\n",
        "plt.show()\n",
        "\n",
        "\n",
        "# Answer to Control question 1\n",
        "\n",
        "print(\"\\n\\n\\nAnswer to Control question 2\")\n",
        "\n",
        "\n"
      ],
      "execution_count": 163,
      "outputs": [
        {
          "output_type": "stream",
          "text": [
            "Answer to 1b)\n"
          ],
          "name": "stdout"
        },
        {
          "output_type": "display_data",
          "data": {
            "image/png": "[encoded data removed]",
            "text/plain": [
              "<Figure size 432x288 with 1 Axes>"
            ]
          },
          "metadata": {
            "tags": [],
            "needs_background": "light"
          }
        },
        {
          "output_type": "stream",
          "text": [
            "Answer to Control question 1\n",
            "Best guess for u 1.4825863933678687\n",
            "\n",
            "\n",
            " Answer to 1c)\n",
            "\n"
          ],
          "name": "stdout"
        },
        {
          "output_type": "display_data",
          "data": {
            "image/png": "[encoded data removed]",
            "text/plain": [
              "<Figure size 432x288 with 1 Axes>"
            ]
          },
          "metadata": {
            "tags": [],
            "needs_background": "light"
          }
        },
        {
          "output_type": "stream",
          "text": [
            "\n",
            "\n",
            "\n",
            "Answer to Control question 2\n"
          ],
          "name": "stdout"
        }
      ]
    },
    {
      "cell_type": "markdown",
      "metadata": {
        "id": "P5YW3QYDnM6c"
      },
      "source": [
        "**Problem 2.** Determine which (if any) of the following linear multistep methods are convergent. If convergent, determine also the order of the method. Include your argument and some calculations as you see fit.\n",
        "\n",
        "**(a)**\n",
        "\n",
        "$$\n",
        "u_{n+3}+u_{n+2} - u_{n+1} - u_{n} = \\frac{h}{3}(f_{n+3}+5f_{n+2}+5f_{n+1}+f_n)\n",
        "$$\n",
        "\n",
        "**(b)**\n",
        "\n",
        "$$\n",
        "u_{n+3}-u_{n+2} + u_{n+1} - u_{n} =  \\frac{h}{6}(11 f_{n+2}-4 f_{n+1}+5f_n)\n",
        "$$\n",
        "\n",
        "\n",
        "**Control question 3.** Is the method in **(2a)** convergent?\n",
        "\n",
        "\n",
        "**Control question 4.** Is the method in **(2b)** convergent?\n"
      ]
    },
    {
      "cell_type": "markdown",
      "metadata": {
        "id": "Ka0JAbcjnM6d"
      },
      "source": [
        ""
      ]
    }
  ]
}