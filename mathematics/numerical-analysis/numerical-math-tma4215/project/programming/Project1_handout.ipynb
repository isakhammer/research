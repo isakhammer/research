{
 "cells": [
  {
   "cell_type": "markdown",
   "metadata": {},
   "source": [
    "# TMA4215 - Project 1"
   ]
  },
  {
   "cell_type": "markdown",
   "metadata": {},
   "source": [
    "* This is an individual project, i.e. each student submits his/her own Python notebook.\n",
    "* The project is due on Friday September 11th at 24.00 (midnight).\n",
    "* The notebook with the answers should be uploaded in Inspera. \n",
    "* The project is obligatory and counts 10% on the final grade\n",
    "\n",
    "### Problem 1\n",
    "In the lectures, you learned about normal matrices, those which have a diagonalization of the form\n",
    "\n",
    "$$\n",
    "     A = U\\Lambda U^H\n",
    "$$\n",
    "\n",
    "where $\\Lambda$ is a diagonal complex $n\\times n$-matrix and $U$ is a unitary (complex) matrix such that $U^H U=I$\n",
    "(recall that $U^H$ is the complex conjugate of $U^T$).\n",
    "\n",
    "Show that for any such matrix, one has $\\|A\\|_2=\\rho(A)$ (where $\\rho(A)$ is the spectral radius of $A$).\n",
    "\n",
    "      \n",
    "##### Kinda sketchy argument, given in Quartentoni page 41/664. In fact, I do not believe it is true to assume A is hermetian/unitary. \n",
    "\n",
    "   $$\n",
    "   \\|A\\|_{2}^{2} = \\sup_{ y \\neq 0}  \\frac{\\sum_{i=1}^{n}  \\mu _{i} \\left| y_{i} \\right|^2}{ \\sum_{i=1}^{n}  \\left| y_{i} \\right|^2}  = \\max _{i} \\left( \\mu _{i} \\right) = \\rho \\left( A \\right)^2.\n",
    "   $$ \n",
    "   Here is $\\mu _{i}$ positive eigenvalues of $A^{H} A$\n",
    "\n",
    "\n",
    "\n",
    "###  Problem 2\n",
    "Consider the $n\\times n$ matrix $A$ whose nonzero elements are located on its unit subdiagonal, i.e. $A_{i+1,i}=1$, $i=1,\\ldots,n-1$.\n",
    "\n",
    "$$\n",
    "A = \\left[\n",
    "\\begin{array}{rrrr}\n",
    "0 & \\ldots & \\ldots &  0 \\\\\n",
    "1 & 0 &   & \\vdots \\\\\n",
    "\\vdots & \\ddots &\\ddots & \\vdots \\\\\n",
    "0 & \\ldots& 1 & 0 & \n",
    "\\end{array}\n",
    "\\right]\n",
    "$$\n",
    "\n",
    "**(a)** What are the eigenvalues of $A$? What would the Gershgorin theorem tell us about the location of the eigenvalues of $A$?\n",
    "\n",
    " \n",
    "\n",
    "**(b)** Now construct the matrix $\\hat{A}$ by adding a small number $\\varepsilon$ in the $(1,n)$-element of A (so that $\\hat{A}=A+ \\varepsilon\\, e_1e_n^T$).\n",
    "Show that \n",
    "\n",
    "$$\n",
    "\\rho(\\hat{A}) = \\varepsilon^{1/n}\n",
    "$$\n",
    "\n",
    "and find an expression for the eigenvalues and eigenvectors of $\\hat{A}$.\n",
    "\n",
    "**(c)** Derive an exact expression for the condition number $K_2(\\hat{A})=\\|\\hat{A}\\|_2\\cdot\\|\\hat{A}^{-1}\\|_2$\n",
    "\n",
    "[//]: # \"**(d)** Write a Python programme to investigate the situation as follows. Let $b=[1,\\ldots,1]^T$.\" \n",
    "\n",
    "###  Problem 3\n",
    "The Hilbert matrix is a classical example of an ill-conditioned matrix. For an $n\\times n$-matrix it is\n",
    "defined as the matrix with $ij$-element\n",
    "$\n",
    "\\frac{1}{i+j-1}\n",
    "$\n",
    "\n",
    "**(a)**\n",
    "For $n=2,\\ldots,13$ find the $n\\times n$ Hilbert matrix $H_n$ and compute the condition number $K_2(H_n)$ in Python. You can either write a function yourself for setting up $H_n$, or you can use scipy.linalg.hilbert().\n",
    "To compute the condition number you can use numpy.linalg.cond. Display/plot the result in a way that best shows the growth rate of the condition number as a function of the dimension $n$.\n",
    "\n",
    "**(b)** Illustrate the meaning of condition numbers as follows: For a range of small perturbations $\\delta H_n$ and\n",
    "$\\delta b$, solve the problems $(H_n+\\delta H_n)(x+\\delta x) = b+\\delta b$ where $b=[1,\\ldots,1]^T$ (the $n$-vector of ones). In each case, compare to the solution of $H_n x = b$ and calculate\n",
    "\n",
    "$$\n",
    "     \\frac{\\frac{\\|\\delta x\\|}{\\|x\\|}}{\\frac{\\|\\delta H_n\\|}{\\|H_n\\|}+\\frac{\\|\\delta b\\|}{\\|b\\|}}.\n",
    "$$\n",
    "\n",
    "One way of generating random arrays (matrices and vectors) is to use numpy.random.rand(j,k). This generates a $j \\times k$ array, where each entry is a random number in the range $[0,1).$ Remember however that the smallest entry in $H_n$ is $\\tfrac{1}{2n+1}$ so yopu have to make sure that the matrix entries in $\\delta H_n$ are small enough to consider $\\delta H_n$ a small perturbation.\n",
    "\n",
    "### Problem X\n",
    "This problem is not so easy, but needs to be answered in order to get the top score. You can get a good score also without solving this problem completely, and you can always ask for hints from the teaching assistant or the lecturer.\n",
    "\n",
    "Let $A$ be any invertible $n\\times n$-matrix. Suppose that $\\delta A$ is the smallest possible matrix, measured in a subordinate (natural) matrix norm $\\|\\cdot\\|$ such that $A+\\delta A$ is singular. Show that\n",
    "\n",
    "$$\n",
    "    \\|\\delta A\\|  = \\|A^{-1}\\|^{-1}\n",
    "$$\n",
    "\n",
    "\n"
   ]
  },
  {
   "cell_type": "code",
   "execution_count": 137,
   "metadata": {},
   "outputs": [
    {
     "data": {
      "image/png": "[encoded data removed]",
      "text/plain": [
       "<Figure size 432x288 with 1 Axes>"
      ]
     },
     "metadata": {
      "needs_background": "light"
     },
     "output_type": "display_data"
    }
   ],
   "source": [
    "import scipy.linalg\n",
    "import numpy as np\n",
    "import matplotlib.pyplot as plt\n",
    "\n",
    "def condition_number_analysis():\n",
    "    n_max = 13\n",
    "\n",
    "    N = np.arange(1,n_max+1, dtype=np.int16)\n",
    "    K = np.zeros(n_max)\n",
    "             \n",
    "    for n in N:\n",
    "        H = scipy.linalg.hilbert(n)\n",
    "        H_inv =  np.linalg.inv(H)\n",
    "        K[n-1] = np.linalg.norm(H,2)*np.linalg.norm(H_inv,2)\n",
    "    \n",
    "    plt.xlabel(\"Dimensions\")\n",
    "    plt.ylabel(\"2-norm Condition Number\")\n",
    "    plt.yscale(\"log\")\n",
    "    plt.title(\"2-norm Condition Number of Hilbert Matrix\")\n",
    "    plt.plot(N,K)\n",
    "\n",
    "condition_number_analysis()"
   ]
  },
  {
   "cell_type": "code",
   "execution_count": 150,
   "metadata": {},
   "outputs": [
    {
     "data": {
      "image/png": "[encoded data removed]",
      "text/plain": [
       "<Figure size 432x288 with 1 Axes>"
      ]
     },
     "metadata": {
      "needs_background": "light"
     },
     "output_type": "display_data"
    }
   ],
   "source": [
    "\n",
    "\n",
    "def perturbation(x, H, b, dx, dH, db):\n",
    "    x_norm = np.linalg.norm(x,2)\n",
    "    H_norm = np.linalg.norm(H,2)\n",
    "    b_norm = np.linalg.norm(b,2)\n",
    "    dx_norm = np.linalg.norm(dx,2)\n",
    "    dH_norm = np.linalg.norm(dH,2)\n",
    "    db_norm = np.linalg.norm(db,2)\n",
    "    return (dx_norm/x_norm)/(dH_norm/H_norm + db_norm/b_norm)\n",
    "                             \n",
    "\n",
    "def perturbation_analysis():\n",
    "    n_max = 13\n",
    "    c = 0.00001\n",
    "    N = np.arange(1,n_max+1, dtype=np.int16)\n",
    "    \n",
    "    A = np.zeros(n_max)\n",
    "    for n in N:\n",
    "        b = np.ones(n) \n",
    "        H = scipy.linalg.hilbert(n)\n",
    "        x = np.linalg.solve(H, b )\n",
    "  \n",
    "        db = np.random.uniform(-0,c, b.shape)\n",
    "        dH = np.random.uniform(0, 1/(2*H.shape[0] + 1)*c, H.shape)\n",
    "        dx = x - np.linalg.solve(H+ dH, b + db)\n",
    "        \n",
    "        A[n-1] = perturbation(x, H, b, dx, dH, db)\n",
    "    \n",
    "    plt.plot( N, A)\n",
    "    plt.xlabel(\"Dimensions\")\n",
    "    plt.ylabel(\"Perturbation\")\n",
    "    plt.yscale(\"log\")\n",
    "    plt.title(\"Perturbation Analysis of Hilbert Matrix\")\n",
    "    plt.show()\n",
    "\n",
    "perturbation_analysis()"
   ]
  },
  {
   "cell_type": "code",
   "execution_count": null,
   "metadata": {},
   "outputs": [],
   "source": [
    "\n",
    "    "
   ]
  },
  {
   "cell_type": "code",
   "execution_count": null,
   "metadata": {},
   "outputs": [],
   "source": []
  },
  {
   "cell_type": "code",
   "execution_count": null,
   "metadata": {},
   "outputs": [],
   "source": []
  },
  {
   "cell_type": "code",
   "execution_count": null,
   "metadata": {},
   "outputs": [],
   "source": []
  },
  {
   "cell_type": "code",
   "execution_count": null,
   "metadata": {},
   "outputs": [],
   "source": []
  },
  {
   "cell_type": "code",
   "execution_count": null,
   "metadata": {},
   "outputs": [],
   "source": []
  },
  {
   "cell_type": "code",
   "execution_count": null,
   "metadata": {},
   "outputs": [],
   "source": []
  },
  {
   "cell_type": "code",
   "execution_count": null,
   "metadata": {},
   "outputs": [],
   "source": []
  },
  {
   "cell_type": "code",
   "execution_count": null,
   "metadata": {},
   "outputs": [],
   "source": []
  },
  {
   "cell_type": "code",
   "execution_count": null,
   "metadata": {},
   "outputs": [],
   "source": []
  },
  {
   "cell_type": "code",
   "execution_count": null,
   "metadata": {},
   "outputs": [],
   "source": []
  },
  {
   "cell_type": "code",
   "execution_count": null,
   "metadata": {},
   "outputs": [],
   "source": []
  },
  {
   "cell_type": "code",
   "execution_count": null,
   "metadata": {},
   "outputs": [],
   "source": []
  },
  {
   "cell_type": "code",
   "execution_count": null,
   "metadata": {},
   "outputs": [],
   "source": []
  },
  {
   "cell_type": "code",
   "execution_count": null,
   "metadata": {},
   "outputs": [],
   "source": []
  }
 ],
 "metadata": {
  "kernelspec": {
   "display_name": "Python 3",
   "language": "python",
   "name": "python3"
  },
  "language_info": {
   "codemirror_mode": {
    "name": "ipython",
    "version": 3
   },
   "file_extension": ".py",
   "mimetype": "text/x-python",
   "name": "python",
   "nbconvert_exporter": "python",
   "pygments_lexer": "ipython3",
   "version": "3.8.2"
  }
 },
 "nbformat": 4,
 "nbformat_minor": 2
}
