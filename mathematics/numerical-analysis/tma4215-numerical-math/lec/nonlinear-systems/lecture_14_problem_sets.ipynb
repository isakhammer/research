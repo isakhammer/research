{
 "cells": [
  {
   "cell_type": "markdown",
   "metadata": {},
   "source": [
    "# Interactive Lecture October 3rd 2019\n",
    "\n",
    "\n",
    "    \n",
    "## Polynomial Interpolation\n",
    "\n",
    "Given $n$ (distinct) node points $\\{x_0,\\ldots,x_n\\} \\in [a,b]$ and some function $f:[a,b] \\to \\mathbb R$, we defined the interpolation polynomial as the polynomial $p_n \\in \\mathcal P_n$ ($\\mathcal P_n$ denotes the space of polynomials of degree $\\leq n$) which satisfy\n",
    "\n",
    "$$ p(x_i) = f(x_i), \\quad i=0,\\ldots,n. $$\n",
    "\n",
    "We will write this as $p(f \\mid x_0, \\ldots, x_n)$. \n",
    "\n",
    "### Lagrange Polynomials\n",
    "\n",
    "Recall from last time, that using the Lagrange polynomials \n",
    "\n",
    "$$ l_i(x) := \\prod_{j\\neq i} \\frac{x-x_j}{x_i-x_j}, $$\n",
    "\n",
    "we can express the interpolating polynomial as \n",
    "\n",
    "$$ p(f \\mid x_0,\\ldots,x_n)(x) = \\sum_{i=0}^nf(x_i)l_i(x) $$\n",
    "\n",
    "Observe that the lagrange polynomials $\\{l_i\\}_{i=0}^n$ can be seen as a basis for the space of polynomials and $f(x_i)$ is the coefficient for each basis function $l_i$.\n",
    "\n",
    "#### Adding Data Points\n",
    "\n",
    "Now assume that we want to add a new data point $(x_{n+1},y_{n+1})$. Observe that the Lagrange polynomials $l_i$ depend on every data point $x_j$, including the new point $x_{n+1}$. This means that we must reconstruct all the Lagrange polynomials in order to interpolate the new point $(x_{n+1},y_{n+1})$. The question is whether we can use another basis for $\\mathcal P_n$ such that we do not need to reconstruct all the basis polynomials when adding a new point?\n",
    "\n",
    "\n",
    "\n",
    "### Newton Polynomials\n",
    "\n",
    "Using Newton polynomials is another way to compute interpolating polynomials given a set of data points. These polynomials can be defined as\n",
    "\n",
    "\\begin{alignat}{2}\n",
    "    w_0(x) &= 1\\\\\n",
    "    w_1(x) &= (x-x_0) &&= (x-x_0)w_0(x)\\\\\n",
    "    w_2(x) &= (x-x_0)(x-x_1) &&= (x-x_1)w_1(x)\\\\\n",
    "    w_3(x) &= (x-x_0)(x-x_1)(x-x_2) &&= (x-x_2)w_2(x)\\\\\n",
    "    &\\,\\ \\vdots&&\\,\\ \\vdots\\\\\n",
    "    w_n(x) &= (x-x_0)(x-x_1)\\dotsm(x-x_{n-1}) &&= (x-x_{n-1})w_{n-1}(x).\n",
    "\\end{alignat}\n",
    "\n",
    "Observe that these can both be defined through a product\n",
    "\n",
    "$$ w_i(x) = \\prod_{j=0}^{i-1} (x-x_j) $$\n",
    "\n",
    "or through a recursion formula $ w_i(x) = (x-x_{i-1}) w_{i-1}(x) $. Two important property for the Newton polynomials are\n",
    "\\begin{align}\n",
    "    w_i(x_j) &= 0 \\text{ for all } i>j,\\\\\n",
    "    w_i(x_i) &\\neq 0 \\text{ for all } i.\n",
    "\\end{align}\n",
    "The second property comes from the fact that the $x_i$'s are distinct. "
   ]
  },
  {
   "cell_type": "markdown",
   "metadata": {},
   "source": [
    "<font color = \"darkblue\">\n",
    "\n",
    "**1a)** Using $x_i = i$ for $i=0,1,2,3$, write out the Newton polynomials $w_0(x)$, $w_1(x)$, $w_2(x)$ and $w_3(x)$ explicitly. \n",
    "\n",
    "</font>"
   ]
  },
  {
   "cell_type": "markdown",
   "metadata": {},
   "source": [
    "### Newton Polynomials as a Basis\n",
    "\n",
    "The newton polynomials acts as a basis for the vector space $\\mathcal P_n$. That is,\n",
    "\n",
    "1. For all $p\\in\\mathcal P_n$, there are coefficients $a_0,\\ldots,a_n$ such that $p(x) = \\sum_{i=0}^n a_iw_i(x)$.\n",
    "\n",
    "2. Whenever there are coefficients $a_0,\\ldots,a_n$ such that $\\sum_{i=0}^n a_iw_i(x) = 0$ for all $x$, then we must have that $a_0 = a_1 = \\ldots = a_n = 0$.\n",
    "\n",
    "This can be proved by the following: We have $n+1$ polynomials $w_0,\\ldots,w_n \\in \\mathcal P_n$. Further, since the dimension of $\\mathcal P_n$ is $n+1$, it is sufficient to prove that the polynomials $w_0,\\ldots,w_n \\in \\mathcal P_n$ are linearly independent. "
   ]
  },
  {
   "cell_type": "markdown",
   "metadata": {},
   "source": [
    "<font color=\"darkblue\">\n",
    "\n",
    "**1b)** Prove that the polynomials $w_0,\\ldots,w_n$ are linearly independent. That is, assume that $w_0,\\ldots w_n$ are the Newton polynomials given the nodes $x_0,\\ldots, x_n$. Then, prove that if\n",
    "\n",
    "$$ z(x) := \\sum_{i=0}^na_iw_i(x) = 0. $$\n",
    "\n",
    "for all $x$, we must have $a_0 = a_1 = \\ldots =a_n=0$.\n",
    "\n",
    "\n",
    "*Hint: Use induction.*\n",
    "- *First show that $a_0=0$ by writing out $z(x_0)$.*\n",
    "- *Then assume that $a_0,\\ldots,a_{j-1}=0$ and show that this implies $a_j=0$ (by writing out $z(x_j)$).*\n",
    "\n",
    "*You might also need the two properties written above Exercise 1a).*\n",
    "</font>\n"
   ]
  },
  {
   "cell_type": "markdown",
   "metadata": {},
   "source": [
    "## Interpolation Using Newton Polynomials\n",
    "\n",
    "\n",
    "Using Newton polynomials, the interpolating polynomial will now be a polynomial of the form\n",
    "\n",
    "$$ p(f \\mid x_0,\\ldots,x_n)(x) = \\sum_{i=0}^na_iw_i(x). $$\n",
    "\n",
    "The question is how to find the coefficients $a_0,\\ldots,a_n$ for a general function $f$. This is typically done using Newtons divided differences.\n",
    "\n",
    "#### Newton's Divided differences\n",
    "\n",
    "\n",
    "The Newton's divided differences tells us that $a_i := f[x_0,x_1,\\ldots,x_{i-1},x_i]$ where $f[x_0,x_1,\\ldots,x_{i-1},x_i]$ can be computed through the recursion formula\n",
    "\n",
    "\\begin{align}\n",
    "    f[x_i] &= f(x_i) \\\\\n",
    "    f[x_{i}, \\ldots, x_j] &= \\frac{f[x_{i+1}, \\ldots, x_j] - f[x_i, \\ldots, x_{j-1}]}{x_j-x_i}\n",
    "    \\tag{1}\n",
    "\\end{align}\n",
    "\n",
    "The values of the Newton's divided differences are commonly stored in a lower triangular matrix\n",
    "\n",
    "$$\n",
    "\\left.\n",
    "\\begin{matrix}\n",
    "    x_0\\\\\n",
    "    x_1\\\\\n",
    "    x_2\\\\\n",
    "    \\vdots\\\\\n",
    "    x_n\n",
    "\\end{matrix}\n",
    "\\right|\n",
    "\\begin{matrix}\n",
    "    f[x_0]\\\\\n",
    "    f[x_1] & f[x_0,x_1] \\\\\n",
    "    f[x_2] & f[x_1,x_2] & f[x_0,x_1,x_2] \\\\\n",
    "    \\vdots & \\vdots & \\vdots & \\ddots\\\\\n",
    "    f[x_n] & f[x_{n-1},x_n] & f[x_{n-2},x_{n-1},x_n] & \\dotsm & f[x_0,\\ldots,x_{n-1},x_n]\n",
    "\\end{matrix}\n",
    "$$\n",
    "\n"
   ]
  },
  {
   "cell_type": "markdown",
   "metadata": {},
   "source": [
    "<font color=\"darkblue\">\n",
    "\n",
    "**1c)** Using $f(x) = \\sin(\\tfrac\\pi2 x)$ and nodes $x_i = i$ for $i=0,1,2,3,4$, fill out the Newton divided difference table. What can you say about the last value $f[x_0,\\ldots,x_4]$?\n",
    "\n",
    "</font>"
   ]
  },
  {
   "cell_type": "markdown",
   "metadata": {},
   "source": [
    "Considering Newton's divided differences as a lower triangular matrix $d$, the elements of $d$ are $d_{i,j} = \n",
    "f[x_{i-j},\\ldots x_{i}]$ (note that $d$ is zero-indexed for simplicity of notation). "
   ]
  },
  {
   "cell_type": "markdown",
   "metadata": {},
   "source": [
    "<font color = \"darkblue\">\n",
    "    \n",
    "**1d)** Express the recursion formula (1) using $d_{i,j}$.\n",
    "\n",
    "</font>"
   ]
  },
  {
   "cell_type": "markdown",
   "metadata": {},
   "source": [
    "## Implementation"
   ]
  },
  {
   "cell_type": "markdown",
   "metadata": {},
   "source": [
    "\n",
    "<font color = \"darkblue\">\n",
    "\n",
    "**2a)** Implement Newton's divided difference scheme. Test $f(x) = \\sin(\\tfrac\\pi2x)$ using nodes $x_i=i$ for $i=0,1,2,3,4$ and compare with your results in 1c.\n",
    "\n",
    "</font>"
   ]
  },
  {
   "cell_type": "code",
   "execution_count": 1,
   "metadata": {},
   "outputs": [],
   "source": [
    "import numpy as np\n",
    "import matplotlib.pyplot as plt\n",
    "np.set_printoptions(suppress=True) # Ensures no scientific notation when priting"
   ]
  },
  {
   "cell_type": "code",
   "execution_count": 8,
   "metadata": {},
   "outputs": [],
   "source": [
    "def dividif(X, f):\n",
    "    # X: nodes x_0, x_1, ..., x_n\n",
    "    # f: function to interpolate\n",
    "    \n",
    "    \n",
    "    # Initialize divided difference table\n",
    "    n = X.shape[0]-1\n",
    "    d = np.zeros((n+1,n+1))\n",
    "    \n",
    "    \n",
    "    # Iteratively fill out the table\n",
    "    # ...\n",
    "    \n",
    "    \n",
    "    return d\n",
    "\n",
    "\n",
    "X = np.array([0,1,2,3,4]) # Nodes X = [x_0,x_1,...]\n",
    "f = lambda x: np.sin(np.pi/2*x)\n",
    "\n",
    "\n",
    "# Example of usage: the following line computes the divided differences of f using nodes X\n",
    "d = dividif(X, f)"
   ]
  },
  {
   "cell_type": "markdown",
   "metadata": {},
   "source": [
    "<font color = \"darkblue\">\n",
    "\n",
    "**2b)** Implement a method for evaluating the Newton polynomial $w_i$. Plot the polynomials $w_0$, $w_1$, $w_2$, $w_3$ and $w_4$, using nodes at $x_i = i$, $i=0,1,2,3,4$.\n",
    "\n",
    "</font>"
   ]
  },
  {
   "cell_type": "code",
   "execution_count": null,
   "metadata": {},
   "outputs": [],
   "source": [
    "def newtonPoly(x, X, i):\n",
    "    # x: value to evaluate the polynomial\n",
    "    # X: nodes x_0, x_1, ..., x_n\n",
    "    # i: which polynomial to evaluate\n",
    "    \n",
    "    \n",
    "    # Initialize the polynomial with the same shape as x\n",
    "    w = np.ones(x.shape)\n",
    "    \n",
    "    \n",
    "    # Compute the polynomial by filling the values of w\n",
    "    # ...\n",
    "    \n",
    "    \n",
    "    return w\n",
    "\n",
    "\n",
    "X = np.array([0,1,2,3,4]) # Nodes X = [x_0,x_1,...]\n",
    "x = np.linspace(-1,4,100) # The values x for which we want to evaluate the polynomial\n",
    "\n",
    "\n",
    "# Example of usage: the following line evaluates the polynomial w_2\n",
    "w_2 = newtonPoly(x, X, 2)"
   ]
  },
  {
   "cell_type": "markdown",
   "metadata": {},
   "source": [
    "<font color = \"darkblue\">\n",
    "\n",
    "**2c)** Use your previous two functions to create a function which interpolates $f(x)$ at nodes $x_i$. \n",
    "\n",
    "With $f(x) = \\sin(\\frac\\pi2x)$, plot both $f(x)$ and the interpolating polynomial $p(f\\mid x_0,x_1,\\ldots x_n)(x)$ using \n",
    "\n",
    "- One node: $\\{x_i\\} = \\{0\\}$\n",
    "- Two nodes: $\\{x_i\\} = \\{0,1\\}$\n",
    "- Three nodes: $\\{x_i\\} = \\{0,1,2\\}$\n",
    "- Four nodes: $\\{x_i\\} = \\{0,1,2,3\\}$\n",
    "- Five nodes: $\\{x_i\\} = \\{0,1,2,3,4\\}$\n",
    "\n",
    "</font>"
   ]
  },
  {
   "cell_type": "code",
   "execution_count": null,
   "metadata": {},
   "outputs": [],
   "source": [
    "def interpolate(x, X, f):\n",
    "    # x: value to evaluate the polynomial\n",
    "    # X: nodes x_0, x_1, ..., x_n\n",
    "    # f: function to interpolate\n",
    "    \n",
    "    \n",
    "    # Compute the divided differences table\n",
    "    d = dividif(X,f)\n",
    "    \n",
    "    \n",
    "    # Initialize the polynomial with the same shape as x\n",
    "    p = np.zeroes(x.shape)\n",
    "    \n",
    "    \n",
    "    # Evaluate the polynomial\n",
    "    # ...\n",
    "    \n",
    "    \n",
    "    return p\n",
    "\n",
    "\n",
    "x = np.linspace(-1,4,100) # The values x for which we want to evaluate the polynomial\n",
    "\n",
    "\n",
    "# Example of usage: the following lines evaluates the interpolating polynomial given nodes X\n",
    "X = np.array([0,1,2,3])   # Nodes X = [x_0,x_1,...]\n",
    "p = interpolate(x, X, f)"
   ]
  },
  {
   "cell_type": "code",
   "execution_count": null,
   "metadata": {},
   "outputs": [],
   "source": []
  },
  {
   "cell_type": "markdown",
   "metadata": {},
   "source": [
    "## Form regarding the interactive lectures\n",
    "\n",
    "At the end of the lecture, please fill out the following form. It takes less than one minute.\n",
    "\n",
    "https://forms.gle/FjYpJypwgoEbUw8N9"
   ]
  }
 ],
 "metadata": {
  "kernelspec": {
   "display_name": "Python 3",
   "language": "python",
   "name": "python3"
  },
  "language_info": {
   "codemirror_mode": {
    "name": "ipython",
    "version": 3
   },
   "file_extension": ".py",
   "mimetype": "text/x-python",
   "name": "python",
   "nbconvert_exporter": "python",
   "pygments_lexer": "ipython3",
   "version": "3.7.3"
  }
 },
 "nbformat": 4,
 "nbformat_minor": 2
}
