{
 "cells": [
  {
   "cell_type": "markdown",
   "metadata": {},
   "source": [
    "# Lecture 20: Problem set"
   ]
  },
  {
   "cell_type": "code",
   "execution_count": 1,
   "metadata": {},
   "outputs": [
    {
     "data": {
      "text/html": [
       "<link href='http://fonts.googleapis.com/css?family=Alegreya+Sans:100,300,400,500,700,800,900,100italic,300italic,400italic,500italic,700italic,800italic,900italic' rel='stylesheet' type='text/css'> <link href='http://fonts.googleapis.com/css?family=Arvo:400,700,400italic' rel='stylesheet' type='text/css'> <link href=\"https://fonts.googleapis.com/css?family=News+Cycle\" rel=\"stylesheet\"> <link href='http://fonts.googleapis.com/css?family=Nixie+One' rel='stylesheet' type='text/css'> <link href='http://fonts.googleapis.com/css?family=PT+Mono' rel='stylesheet' type='text/css'> <link href='http://fonts.googleapis.com/css?family=Shadows+Into+Light' rel='stylesheet' type='text/css'> <link href=\"https://fonts.googleapis.com/css?family=Source+Code+Pro\" rel=\"stylesheet\"> <style> @font-face {\n",
       "    /*font-family: \"Computer Modern\";*/\n",
       "    /*src: url('http://mirrors.ctan.org/fonts/cm-unicode/fonts/otf/cmunss.otf');*/\n",
       "    font-family: 'News Cycle', sans-serif;\n",
       "}\n",
       "\n",
       "\n",
       "/* main background */\n",
       "\n",
       "\n",
       "/*#notebook_panel { \n",
       "        background: #C9D4E2;\n",
       "    }*/\n",
       "\n",
       "div.cell {\n",
       "    /*max-width:600px;*/\n",
       "    /*margin-left:16% !important;*/\n",
       "    /*margin-right:auto;*/\n",
       "}\n",
       "\n",
       "div.text_cell {\n",
       "    max-width: 120ex;\n",
       "    /* instead of 100%, */\n",
       "}\n",
       "\n",
       "div.text_cell_render {\n",
       "    font-family: 'Alegreya Sans', Computer Modern, \"Helvetica Neue\", Arial, Helvetica, Geneva,   sans-serif;\n",
       "    line-height: 135%;\n",
       "    /*font-size:    45pt;*/\n",
       "    font-size: 130%;\n",
       "    /*width:600px;*/\n",
       "    /*margin-left:auto;*/\n",
       "    /*margin-right:auto;*/\n",
       "}\n",
       "\n",
       ".CodeMirror {\n",
       "    /*font-family: 'Source Code Pro', monospace;*/\n",
       "    /*font-style: italic;*/\n",
       "    /*font-weight: bold;*/\n",
       "    /*font-size: 120%;*/\n",
       "}\n",
       "\n",
       "\n",
       "/*.prompt{\n",
       "        display: None;\n",
       "    }*/\n",
       "\n",
       ".text_cell_render h1 {\n",
       "    font-family: 'Nixie One', serifV;\n",
       "    font-style: regular;\n",
       "    font-weight: 400;\n",
       "    font-size: 45pt;\n",
       "    line-height: 100%;\n",
       "        color: #497BB9;    \n",
       "    /*color: #5889C5;*/\n",
       "    /*color: rgb(0, 51, 102);*/\n",
       "    /*font-weight: 200;*/\n",
       "    /*font-size: 50pt;*/\n",
       "    margin-bottom: 0.5em;\n",
       "    margin-top: 0.5em;\n",
       "    display: block;\n",
       "}\n",
       "\n",
       ".text_cell_render h2 {\n",
       "    font-family: 'Nixie One', serif;\n",
       "    font-weight: 400;\n",
       "    font-size: 30pt;\n",
       "    line-height: 100%;\n",
       "    /*color: rgb(0,51,102);*/\n",
       "    color: #497BB9;    \n",
       "    margin-bottom: 0.1em;\n",
       "    margin-top: 0.3em;\n",
       "    display: block;\n",
       "}\t\n",
       "\n",
       ".text_cell_render h3 {\n",
       "    font-family: 'Nixie One', serif;\n",
       "    margin-top:16px;\n",
       "    font-size: 22pt;\n",
       "    font-weight: 600;\n",
       "    margin-bottom: 3px;\n",
       "    font-style: regular;\n",
       "    color: rgb(102,102,0);\n",
       "}\n",
       "\n",
       ".text_cell_render h4 {    /*Use this for captions*/\n",
       "    font-family: 'Nixie One', serif;\n",
       "    font-size: 14pt;\n",
       "/*    text-align: center;*/\n",
       "    margin-top: 0em;\n",
       "    margin-bottom: 2em;\n",
       "    font-style: regular;\n",
       "}\n",
       "\n",
       ".text_cell_render h5 {  /*Use this for small titles*/\n",
       "    font-family: 'Nixie One', sans-serif;\n",
       "    font-weight: 400;\n",
       "    font-size: 16pt;\n",
       "    color: rgb(163,0,0);\n",
       "    /*color: #5889C5;*/\n",
       "    /*margin-bottom: .5em;\n",
       "    margin-top: 0.5em;*/\n",
       "    font-style: italic;\n",
       "    margin-bottom: .1em;\n",
       "    margin-top: 0.8em;\n",
       "    display: block;\n",
       "}\n",
       "\n",
       ".warning {\n",
       "    color: rgb( 240, 20, 20)\n",
       "}\n",
       "\n",
       "</style> \n",
       "<script>\n",
       " MathJax.Hub.Config( {\n",
       "    TeX: {\n",
       "        Macros: {\n",
       "            NN: \"{\\\\bf N}\",\n",
       "            RR: \"{\\\\mathbb{R}}\",\n",
       "            mcO: \"{\\\\mathcal{O}}\"\n",
       "        },\n",
       "        equationNumbers: { autoNumber: \"AMS\" },\n",
       "        extensions: [\"AMSmath.js\", \"begingroup.js\"] \n",
       "    },\n",
       "    tex2jax: {\n",
       "        inlineMath: [ ['$', '$'], [\"\\\\(\", \"\\\\)\"]], displayMath: [ ['$$', '$$'], [\"\\\\[\", \"\\\\]\"]]\n",
       "    },\n",
       "    displayAlign: 'center', // Change this to 'center' to center equations.\n",
       "    \"HTML-CSS\": {\n",
       "        styles: {\n",
       "            '.MathJax_Display': {\n",
       "                \"margin\": 4\n",
       "            }\n",
       "        }\n",
       "    }\n",
       "}\n",
       ");\n",
       "</script>\n"
      ],
      "text/plain": [
       "<IPython.core.display.HTML object>"
      ]
     },
     "execution_count": 1,
     "metadata": {},
     "output_type": "execute_result"
    }
   ],
   "source": [
    "from IPython.core.display import HTML\n",
    "def css_styling():\n",
    "    styles = open(\"../styles/tma4215.css\", \"r\").read()\n",
    "    return HTML(styles)\n",
    "\n",
    "# Comment out next line and execute this cell to restore the default notebook style \n",
    "css_styling()"
   ]
  },
  {
   "cell_type": "markdown",
   "metadata": {},
   "source": [
    "Inserting my secret latex macros here ...\n",
    "$$\n",
    "\\DeclareMathOperator{\\Div}{div}\n",
    "\\DeclareMathOperator{\\Grad}{grad}\n",
    "\\DeclareMathOperator{\\Curl}{curl}\n",
    "\\DeclareMathOperator{\\Rot}{rot}\n",
    "\\DeclareMathOperator{\\ord}{ord}\n",
    "\\DeclareMathOperator{\\Kern}{ker}\n",
    "\\DeclareMathOperator{\\Image}{im}\n",
    "\\DeclareMathOperator{\\spann}{span}\n",
    "\\DeclareMathOperator{\\rank}{rank}\n",
    "\\DeclareMathOperator{\\dist}{dist}\n",
    "\\DeclareMathOperator{\\diam}{diam}\n",
    "\\DeclareMathOperator{\\sig}{sig}\n",
    "\\DeclareMathOperator{\\Id}{Id}\n",
    "\\DeclareMathOperator{\\CQR}{CQR}\n",
    "\\DeclareMathOperator{\\QR}{QR}\n",
    "\\DeclareMathOperator{\\TR}{TR}\n",
    "\\DeclareMathOperator{\\CTR}{CTR}\n",
    "\\DeclareMathOperator{\\SR}{SR}\n",
    "\\DeclareMathOperator{\\CSR}{CSR}\n",
    "\\DeclareMathOperator{\\NCR}{NCR}\n",
    "\\DeclareMathOperator{\\MR}{MR}\n",
    "\\newcommand{\\RR}{\\mathbb{R}}\n",
    "\\newcommand{\\NN}{\\mathbb{N}}\n",
    "\\newcommand{\\VV}{\\mathbb{V}}\n",
    "\\newcommand{\\PP}{\\mathbb{P}}\n",
    "\\newcommand{\\dGamma}{\\,\\mathrm{d} \\Gamma}\n",
    "\\newcommand{\\dGammah}{\\,\\mathrm{d} \\Gamma_h}\n",
    "\\newcommand{\\dx}{\\,\\mathrm{d}x}\n",
    "\\newcommand{\\dy}{\\,\\mathrm{d}y}\n",
    "\\newcommand{\\ds}{\\,\\mathrm{d}s}\n",
    "\\newcommand{\\dt}{\\,\\mathrm{d}t}\n",
    "\\newcommand{\\dS}{\\,\\mathrm{d}S}\n",
    "\\newcommand{\\dV}{\\,\\mathrm{d}V}\n",
    "\\newcommand{\\dX}{\\,\\mathrm{d}X}\n",
    "\\newcommand{\\dY}{\\,\\mathrm{d}Y}\n",
    "\\newcommand{\\dE}{\\,\\mathrm{d}E}\n",
    "\\newcommand{\\dK}{\\,\\mathrm{d}K}\n",
    "\\newcommand{\\dM}{\\,\\mathrm{d}M}\n",
    "\\newcommand{\\cd}{\\mathrm{cd}}\n",
    "\\newcommand{\\onehalf}{\\frac{1}{2}}\n",
    "\\newcommand{\\bfP}{\\boldsymbol P}\n",
    "\\newcommand{\\bfx}{\\boldsymbol x}\n",
    "\\newcommand{\\bfy}{\\boldsymbol y}\n",
    "\\newcommand{\\bfa}{\\boldsymbol a}\n",
    "\\newcommand{\\bfu}{\\boldsymbol u}\n",
    "\\newcommand{\\bfv}{\\boldsymbol v}\n",
    "\\newcommand{\\bfe}{\\boldsymbol e}\n",
    "\\newcommand{\\bfb}{\\boldsymbol b}\n",
    "\\newcommand{\\bfc}{\\boldsymbol c}\n",
    "\\newcommand{\\bfq}{\\boldsymbol q}\n",
    "\\newcommand{\\bfy}{\\boldsymbol y}\n",
    "\\newcommand{\\bff}{\\boldsymbol f}\n",
    "\\newcommand{\\bfp}{\\boldsymbol p}\n",
    "\\newcommand{\\bft}{\\boldsymbol t}\n",
    "\\newcommand{\\bfj}{\\boldsymbol j}\n",
    "\\newcommand{\\bfB}{\\boldsymbol B}\n",
    "\\newcommand{\\bfV}{\\boldsymbol V}\n",
    "\\newcommand{\\bfE}{\\boldsymbol E}\n",
    "\\newcommand{\\bfB}{\\boldsymbol B}\n",
    "\\newcommand{\\bfzero}{\\boldsymbol 0}\n",
    "$$"
   ]
  },
  {
   "cell_type": "markdown",
   "metadata": {},
   "source": [
    "#### Before we start\n",
    "\n",
    "We will make heavy use of the notation introduced yesterday , in particular\n",
    "\n",
    "* Weighted integral $I_a^b(f, w) =  \\int_a^b w(x) f(x) \\dx$ for some weight function $w(x)$\n",
    "  satifying $w(x) >  0$ for $ x \\in (a,b)$ \n",
    "* Scalar product $(p,q) = \\int_a^b w(x) p(x) q(x) \\dx$\n",
    "* Norm $\\| p\\| =  (p,p)^{1/2} = \\left(\\int_a^b w(x) p(x)^2 \\dx\\right)^{1/2}$\n",
    "\n"
   ]
  },
  {
   "cell_type": "markdown",
   "metadata": {},
   "source": [
    "## Problem 1\n",
    "\n",
    "Show that there is no quadrature rule $QR(\\cdot, \\{x_i\\}_{i=0}^n, \\{w_i\\}_{i=0}^n)$\n",
    "which has degree of exactness $= 2n+2$. So $2n +1$ is the maximum degree of exactness\n",
    "one can achieve when using $n$ quadrature points and weights.\n",
    "\n",
    "__Hint__: One simple way to prove this is to construct some $p \\in \\PP_{2n+2}$\n",
    "for which you can that the quadrature rule is not exact.\n"
   ]
  },
  {
   "cell_type": "markdown",
   "metadata": {},
   "source": [
    "## Problem 2\n",
    "\n",
    "Let $[a,b] = [-1,1]$ and set the weight function to $w(x) = 1$.\n",
    "Start from mononials $\\{1, x, x^2\\}$, generate a orthogonal basis\n",
    "for $\\PP_2$.\n",
    "\n"
   ]
  },
  {
   "cell_type": "markdown",
   "metadata": {},
   "source": [
    "__Solution__:\n",
    "We have already that $\\int_{-1}^{1}1 x \\dx = 0$, so we set $q_0(x) = 1$ and $q_1(x) = x$.\n",
    "But obviously $\\int_{-1}^1  1 \\cdot x^2 \\dx \\neq 0$.\n",
    "So we use Gram-Schmidt to compute $q_2$:\n",
    "$$\n",
    "q_2(x) = x^2 - \\tfrac{(1,x^2)}{(1,1)} 1 - \\tfrac{(x,x^2)}{(x,x)} x = x^2 - \\dfrac{1}{3}\n",
    "$$\n",
    "since $(1,1) = 2$, $(x,x) = (1, x^2) = \\dfrac{2}{3}$ and $(x,x^2) = 0$."
   ]
  },
  {
   "cell_type": "markdown",
   "metadata": {},
   "source": [
    "## Problem 3 (bonus)\n",
    "We continue with construction orthogonal polynomials on $[-1,1]$ and as in Problem 2,\n",
    "we set $w(x) =  1$. Show that the __Legendre__ polynomials\n",
    "$$\n",
    "L_k(x) = \\dfrac{1}{2^k k!} \\dfrac{d^k}{dx^k}(x^2 -1)^k\n",
    "$$\n",
    "are orthogonal on $[-1,1]$ for $0\\leqslant k \\leqslant n$."
   ]
  },
  {
   "cell_type": "markdown",
   "metadata": {},
   "source": [
    "## Problem 4\n",
    "\n",
    "Remaining in the same setting, you are asked to construct the Gaussian quadrature rule for $n=2$. That requires\n",
    "to\n",
    "\n",
    "* construct the orthogonal polynomial $q_3$ starting from your solution of Problem 2\n",
    "* compute the 3 roots of $q_3$\n",
    "* compute the weights $w_i = \\int_{-1}^1 L_{i2} \\dx$ for $i=0,1,2$ where $L_{i2}$ is the\n",
    "  Lagrange polynom of order 2 satisfying $L_{i2}(x_k) = \\delta_{ik}$.\n"
   ]
  },
  {
   "cell_type": "markdown",
   "metadata": {},
   "source": [
    "To make your life easy,use the [sympy](https://docs.sympy.org/latest/index.html#) python module  for symbolic mathematics to perform tasks such as (symbolic) integration and root finding of low order polynoms. \n",
    "In particular look at [integrate](https://docs.sympy.org/latest/modules/integrals/integrals.html) and [solve](https://docs.sympy.org/latest/modules/solvers/solvers.html) submodules.\n"
   ]
  },
  {
   "cell_type": "code",
   "execution_count": 22,
   "metadata": {},
   "outputs": [
    {
     "name": "stdout",
     "output_type": "stream",
     "text": [
      "q3\n",
      "x**3 - 3*x/5\n",
      "int_p_q = 2\n",
      "int_p_q = 0\n",
      "int_p_q = 0\n",
      "int_p_q = 0\n",
      "int_p_q = 0\n",
      "int_p_q = 2/3\n",
      "int_p_q = 0\n",
      "int_p_q = 0\n",
      "int_p_q = 0\n",
      "int_p_q = 0\n",
      "int_p_q = 0.177777777777778\n",
      "int_p_q = 0\n",
      "int_p_q = 0\n",
      "int_p_q = 0\n",
      "int_p_q = 0\n",
      "int_p_q = 8/175\n"
     ]
    }
   ],
   "source": [
    "from sympy.abc import x\n",
    "from sympy import integrate\n",
    "\n",
    "a, b = -1, 1\n",
    "q0 = 1\n",
    "q1 = x\n",
    "q2 = x**2 - 1.0/3.0\n",
    "qs = [q0, q1, q2]\n",
    "\n",
    "def scp(p,q):\n",
    "    return integrate(p*q, (x, a, b))\n",
    "\n",
    "mono = lambda x,m: x**m\n",
    "p3 = mono(x,3)\n",
    "\n",
    "q3 = p3\n",
    "for q in qs:\n",
    "    q3 = q3 - scp(q, p3)/scp(q, q)*q\n",
    "\n",
    "qs.append(q3)\n",
    "\n",
    "print(\"q3\")\n",
    "print(q3)\n",
    "\n",
    "for p in qs:\n",
    "    for q in qs:\n",
    "        int_p_q = scp(p,q)\n",
    "        print(\"int_p_q = {}\".format(int_p_q))"
   ]
  },
  {
   "cell_type": "code",
   "execution_count": 25,
   "metadata": {},
   "outputs": [
    {
     "name": "stdout",
     "output_type": "stream",
     "text": [
      "[0, -sqrt(15)/5, sqrt(15)/5]\n"
     ]
    }
   ],
   "source": [
    "from sympy.solvers import solve\n",
    "xqs = solve(q3)\n",
    "print(xqs)"
   ]
  },
  {
   "cell_type": "code",
   "execution_count": 33,
   "metadata": {},
   "outputs": [
    {
     "name": "stdout",
     "output_type": "stream",
     "text": [
      "[8/9, 5/9, 5/9]\n"
     ]
    }
   ],
   "source": [
    "# Non-normalized version\n",
    "L_02 = (x-xqs[1])*(x-xqs[2])\n",
    "# Normalize\n",
    "L_02 /= L_02.subs(x, xqs[0])\n",
    "\n",
    "# Non-normalized version\n",
    "L_12 = (x-xqs[0])*(x-xqs[2])\n",
    "# Normalize\n",
    "L_12 /= L_12.subs(x, xqs[1])\n",
    "\n",
    "# Non-normalized version\n",
    "L_22 = (x-xqs[0])*(x-xqs[1])\n",
    "# Normalize\n",
    "L_22 /= L_22.subs(x, xqs[2])\n",
    "\n",
    "Ls = [L_02, L_12, L_22]\n",
    "ws = [integrate(L, (x, a, b)) for L in Ls ] \n",
    "\n",
    "print(ws)"
   ]
  },
  {
   "cell_type": "markdown",
   "metadata": {},
   "source": [
    "## Problem 5 \n",
    "\n",
    "__a)__ Check that the Gaussian quadrature rule computed in Problem 4 has degree of exactness $= 5$."
   ]
  },
  {
   "cell_type": "code",
   "execution_count": 37,
   "metadata": {},
   "outputs": [
    {
     "name": "stdout",
     "output_type": "stream",
     "text": [
      "int_p - qr(p) = 0\n",
      "int_p - qr(p) = 0\n",
      "int_p - qr(p) = 0\n",
      "int_p - qr(p) = 0\n",
      "int_p - qr(p) = 0\n",
      "int_p - qr(p) = 0\n"
     ]
    }
   ],
   "source": [
    "import numpy as np\n",
    "def qr(f, xqs, ws):\n",
    "    qr_f = np.array([w*f.subs(x, xq) for xq,w in zip(xqs, ws)]).sum()\n",
    "    return qr_f\n",
    "\n",
    "monomials  = [ mono(x,m) for m in range(6) ]\n",
    "\n",
    "for p in monomials:\n",
    "    qr_p = qr(p, xqs, ws)\n",
    "    int_p = integrate(p, (x, a, b))\n",
    "    diff = int_p - qr_p\n",
    "    print(\"int_p - qr(p) = {}\".format(diff))\n"
   ]
  },
  {
   "cell_type": "markdown",
   "metadata": {},
   "source": [
    "__b__) Compute $\\int_{-1}^1 e^{-x^2/2} \\dx \\approx 1.71124878378430$ numerically using the Gaussian quadrature\n",
    "rule. Compare the result with the integral computation based on the Newton-Cotes rule for $n=2$ (Simpson's rule)."
   ]
  },
  {
   "cell_type": "code",
   "execution_count": 51,
   "metadata": {},
   "outputs": [
    {
     "name": "stdout",
     "output_type": "stream",
     "text": [
      "1.568030367802863\n"
     ]
    }
   ],
   "source": [
    "from sympy import exp\n",
    "f = exp(-x**2/2.0)\n",
    "qr_f = float(qr(f, xqs, ws))\n",
    "print(qr_f)"
   ]
  },
  {
   "cell_type": "code",
   "execution_count": 52,
   "metadata": {},
   "outputs": [
    {
     "name": "stdout",
     "output_type": "stream",
     "text": [
      "1.568030367802863\n"
     ]
    }
   ],
   "source": [
    "qrs = [-1.0, 0, 1.0]\n",
    "ws  = [2/6.0, 8/6.0, 2/6.0] \n",
    "qr_f = float(qr(f, xqs, ws))\n",
    "print(qr_f)"
   ]
  }
 ],
 "metadata": {
  "file_extension": ".py",
  "kernelspec": {
   "display_name": "Python 3",
   "language": "python",
   "name": "python3"
  },
  "language_info": {
   "codemirror_mode": {
    "name": "ipython",
    "version": 3
   },
   "file_extension": ".py",
   "mimetype": "text/x-python",
   "name": "python",
   "nbconvert_exporter": "python",
   "pygments_lexer": "ipython3",
   "version": "3.7.4"
  },
  "mimetype": "text/x-python",
  "name": "python",
  "npconvert_exporter": "python",
  "pygments_lexer": "ipython3",
  "version": 3
 },
 "nbformat": 4,
 "nbformat_minor": 2
}
