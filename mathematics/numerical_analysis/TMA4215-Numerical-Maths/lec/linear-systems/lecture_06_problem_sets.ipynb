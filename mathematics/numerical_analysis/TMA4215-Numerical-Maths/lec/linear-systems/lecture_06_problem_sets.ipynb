{
 "cells": [
  {
   "cell_type": "markdown",
   "metadata": {
    "slideshow": {
     "slide_type": "slide"
    }
   },
   "source": [
    "# Lecture 6"
   ]
  },
  {
   "cell_type": "code",
   "execution_count": 2,
   "metadata": {
    "slideshow": {
     "slide_type": "skip"
    }
   },
   "outputs": [
    {
     "data": {
      "text/html": [
       "<link href='http://fonts.googleapis.com/css?family=Alegreya+Sans:100,300,400,500,700,800,900,100italic,300italic,400italic,500italic,700italic,800italic,900italic' rel='stylesheet' type='text/css'> <link href='http://fonts.googleapis.com/css?family=Arvo:400,700,400italic' rel='stylesheet' type='text/css'> <link href=\"https://fonts.googleapis.com/css?family=News+Cycle\" rel=\"stylesheet\"> <link href='http://fonts.googleapis.com/css?family=Nixie+One' rel='stylesheet' type='text/css'> <link href='http://fonts.googleapis.com/css?family=PT+Mono' rel='stylesheet' type='text/css'> <link href='http://fonts.googleapis.com/css?family=Shadows+Into+Light' rel='stylesheet' type='text/css'> <link href=\"https://fonts.googleapis.com/css?family=Source+Code+Pro\" rel=\"stylesheet\"> <style> @font-face {\n",
       "    /*font-family: \"Computer Modern\";*/\n",
       "    /*src: url('http://mirrors.ctan.org/fonts/cm-unicode/fonts/otf/cmunss.otf');*/\n",
       "    font-family: 'News Cycle', sans-serif;\n",
       "}\n",
       "\n",
       "\n",
       "/* main background */\n",
       "\n",
       "\n",
       "/*#notebook_panel { \n",
       "        background: #C9D4E2;\n",
       "    }*/\n",
       "\n",
       "div.cell {\n",
       "    /*max-width:600px;*/\n",
       "    /*margin-left:16% !important;*/\n",
       "    /*margin-right:auto;*/\n",
       "}\n",
       "\n",
       "div.text_cell {\n",
       "    max-width: 120ex;\n",
       "    /* instead of 100%, */\n",
       "}\n",
       "\n",
       "div.text_cell_render {\n",
       "    font-family: 'Alegreya Sans', Computer Modern, \"Helvetica Neue\", Arial, Helvetica, Geneva,   sans-serif;\n",
       "    line-height: 135%;\n",
       "    /*font-size:    45pt;*/\n",
       "    font-size: 130%;\n",
       "    /*width:600px;*/\n",
       "    /*margin-left:auto;*/\n",
       "    /*margin-right:auto;*/\n",
       "}\n",
       "\n",
       ".CodeMirror {\n",
       "    /*font-family: 'Source Code Pro', monospace;*/\n",
       "    /*font-style: italic;*/\n",
       "    /*font-weight: bold;*/\n",
       "    /*font-size: 120%;*/\n",
       "}\n",
       "\n",
       "\n",
       "/*.prompt{\n",
       "        display: None;\n",
       "    }*/\n",
       "\n",
       ".text_cell_render h1 {\n",
       "    font-family: 'Nixie One', serifV;\n",
       "    font-style: regular;\n",
       "    font-weight: 400;\n",
       "    font-size: 45pt;\n",
       "    line-height: 100%;\n",
       "        color: #497BB9;    \n",
       "    /*color: #5889C5;*/\n",
       "    /*color: rgb(0, 51, 102);*/\n",
       "    /*font-weight: 200;*/\n",
       "    /*font-size: 50pt;*/\n",
       "    margin-bottom: 0.5em;\n",
       "    margin-top: 0.5em;\n",
       "    display: block;\n",
       "}\n",
       "\n",
       ".text_cell_render h2 {\n",
       "    font-family: 'Nixie One', serif;\n",
       "    font-weight: 400;\n",
       "    font-size: 30pt;\n",
       "    line-height: 100%;\n",
       "    /*color: rgb(0,51,102);*/\n",
       "    color: #497BB9;    \n",
       "    margin-bottom: 0.1em;\n",
       "    margin-top: 0.3em;\n",
       "    display: block;\n",
       "}\t\n",
       "\n",
       ".text_cell_render h3 {\n",
       "    font-family: 'Nixie One', serif;\n",
       "    margin-top:16px;\n",
       "    font-size: 22pt;\n",
       "    font-weight: 600;\n",
       "    margin-bottom: 3px;\n",
       "    font-style: regular;\n",
       "    color: rgb(102,102,0);\n",
       "}\n",
       "\n",
       ".text_cell_render h4 {    /*Use this for captions*/\n",
       "    font-family: 'Nixie One', serif;\n",
       "    font-size: 14pt;\n",
       "/*    text-align: center;*/\n",
       "    margin-top: 0em;\n",
       "    margin-bottom: 2em;\n",
       "    font-style: regular;\n",
       "}\n",
       "\n",
       ".text_cell_render h5 {  /*Use this for small titles*/\n",
       "    font-family: 'Nixie One', sans-serif;\n",
       "    font-weight: 400;\n",
       "    font-size: 16pt;\n",
       "    color: rgb(163,0,0);\n",
       "    /*color: #5889C5;*/\n",
       "    /*margin-bottom: .5em;\n",
       "    margin-top: 0.5em;*/\n",
       "    font-style: italic;\n",
       "    margin-bottom: .1em;\n",
       "    margin-top: 0.8em;\n",
       "    display: block;\n",
       "}\n",
       "\n",
       ".warning {\n",
       "    color: rgb( 240, 20, 20)\n",
       "}\n",
       "\n",
       "</style> \n",
       "<script>\n",
       " MathJax.Hub.Config( {\n",
       "    TeX: {\n",
       "        Macros: {\n",
       "            NN: \"{\\\\bf N}\",\n",
       "            RR: \"{\\\\mathbb{R}}\",\n",
       "            mcO: \"{\\\\mathcal{O}}\"\n",
       "        },\n",
       "        equationNumbers: { autoNumber: \"AMS\" },\n",
       "        extensions: [\"AMSmath.js\", \"begingroup.js\"] \n",
       "    },\n",
       "    tex2jax: {\n",
       "        inlineMath: [ ['$', '$'], [\"\\\\(\", \"\\\\)\"]], displayMath: [ ['$$', '$$'], [\"\\\\[\", \"\\\\]\"]]\n",
       "    },\n",
       "    displayAlign: 'center', // Change this to 'center' to center equations.\n",
       "    \"HTML-CSS\": {\n",
       "        styles: {\n",
       "            '.MathJax_Display': {\n",
       "                \"margin\": 4\n",
       "            }\n",
       "        }\n",
       "    }\n",
       "}\n",
       ");\n",
       "</script>\n"
      ],
      "text/plain": [
       "<IPython.core.display.HTML object>"
      ]
     },
     "execution_count": 2,
     "metadata": {},
     "output_type": "execute_result"
    }
   ],
   "source": [
    "from IPython.core.display import HTML\n",
    "def css_styling():\n",
    "    styles = open(\"../styles/tma4215.css\", \"r\").read()\n",
    "    return HTML(styles)\n",
    "\n",
    "# Comment out next line and execute this cell to restore the default notebook style \n",
    "css_styling()"
   ]
  },
  {
   "cell_type": "markdown",
   "metadata": {
    "slideshow": {
     "slide_type": "fragment"
    }
   },
   "source": [
    "Material is mostly taken from: __YEB__: 2.1, 2.5. __BLUB__: 2.7 provides similar background material"
   ]
  },
  {
   "cell_type": "markdown",
   "metadata": {
    "slideshow": {
     "slide_type": "slide"
    }
   },
   "source": [
    "## 1. General Sources of Errors\n",
    "\n",
    "$$\n",
    "\\DeclareMathOperator{\\Div}{div}\n",
    "\\DeclareMathOperator{\\Grad}{grad}\n",
    "\\DeclareMathOperator{\\Curl}{curl}\n",
    "\\DeclareMathOperator{\\Rot}{rot}\n",
    "\\DeclareMathOperator{\\ord}{ord}\n",
    "\\DeclareMathOperator{\\Kern}{ker}\n",
    "\\DeclareMathOperator{\\Image}{im}\n",
    "\\DeclareMathOperator{\\spann}{span}\n",
    "\\DeclareMathOperator{\\dist}{dist}\n",
    "\\DeclareMathOperator{\\diam}{diam}\n",
    "\\DeclareMathOperator{\\sig}{sig}\n",
    "\\DeclareMathOperator{\\fl}{fl}\n",
    "\\newcommand{\\RR}{\\mathbb{R}}\n",
    "\\newcommand{\\NN}{\\mathbb{N}}\n",
    "\\newcommand{\\VV}{\\mathbb{V}}\n",
    "\\newcommand{\\FF}{\\mathbb{F}}\n",
    "\\newcommand{\\dGamma}{\\,\\mathrm{d} \\Gamma}\n",
    "\\newcommand{\\dGammah}{\\,\\mathrm{d} \\Gamma_h}\n",
    "\\newcommand{\\dx}{\\,\\mathrm{d}x}\n",
    "\\newcommand{\\dy}{\\,\\mathrm{d}y}\n",
    "\\newcommand{\\ds}{\\,\\mathrm{d}s}\n",
    "\\newcommand{\\dt}{\\,\\mathrm{d}t}\n",
    "\\newcommand{\\dS}{\\,\\mathrm{d}S}\n",
    "\\newcommand{\\dV}{\\,\\mathrm{d}V}\n",
    "\\newcommand{\\dX}{\\,\\mathrm{d}X}\n",
    "\\newcommand{\\dY}{\\,\\mathrm{d}Y}\n",
    "\\newcommand{\\dE}{\\,\\mathrm{d}E}\n",
    "\\newcommand{\\dK}{\\,\\mathrm{d}K}\n",
    "\\newcommand{\\dM}{\\,\\mathrm{d}M}\n",
    "\\newcommand{\\cd}{\\mathrm{cd}}\n",
    "\\newcommand{\\onehalf}{\\frac{1}{2}}\n",
    "\\newcommand{\\bfP}{\\boldsymbol P}\n",
    "\\newcommand{\\bfx}{\\boldsymbol x}\n",
    "\\newcommand{\\bfy}{\\boldsymbol y}\n",
    "\\newcommand{\\bfa}{\\boldsymbol a}\n",
    "\\newcommand{\\bfu}{\\boldsymbol u}\n",
    "\\newcommand{\\bfv}{\\boldsymbol v}\n",
    "\\newcommand{\\bfe}{\\boldsymbol e}\n",
    "\\newcommand{\\bfb}{\\boldsymbol b}\n",
    "\\newcommand{\\bff}{\\boldsymbol f}\n",
    "\\newcommand{\\bfp}{\\boldsymbol p}\n",
    "\\newcommand{\\bft}{\\boldsymbol t}\n",
    "\\newcommand{\\bfj}{\\boldsymbol j}\n",
    "\\newcommand{\\bfB}{\\boldsymbol B}\n",
    "\\newcommand{\\bfV}{\\boldsymbol V}\n",
    "\\newcommand{\\bfE}{\\boldsymbol E}\n",
    "\\newcommand{\\bfB}{\\boldsymbol B}\n",
    "\\newcommand{\\bfzero}{\\boldsymbol 0}\n",
    "$$"
   ]
  },
  {
   "cell_type": "markdown",
   "metadata": {
    "slideshow": {
     "slide_type": "fragment"
    }
   },
   "source": [
    "Recall the first 4 steps to translate a problem in science and engineering\n",
    "into a computational problem:\n",
    "\n",
    "1. Mathematical Modeling\n",
    "2. Analysis of the mathematical model (Existence, Uniqueness, Continuity)\n",
    "3. Numerical methods (computational complexity, stability, accuracy)\n",
    "4. Realization (implemententation) \n",
    "\n",
    "Group in pairs and take 5 mins to discuss possible sources of errors\n",
    "when going through Step 1 to Step 5.\n",
    "For each of the steps, discuss in pairs of 2 possible source of errors."
   ]
  },
  {
   "cell_type": "markdown",
   "metadata": {
    "slideshow": {
     "slide_type": "slide"
    }
   },
   "source": [
    "## 2. Machine Representation of Numbers"
   ]
  },
  {
   "cell_type": "markdown",
   "metadata": {},
   "source": [
    "### Positional System"
   ]
  },
  {
   "cell_type": "markdown",
   "metadata": {},
   "source": [
    "On everyday base, we represent numbers using the _positional system_. For instance, when we write $145397.2346$ to denote the number\n",
    "$$\n",
    "145397.2346 = \n",
    "  1 \\cdot 10^5 \n",
    "+ 4 \\cdot 10^4 \n",
    "+ 5 \\cdot 10^3\n",
    "+ 3 \\cdot 10^2 \n",
    "+ 9 \\cdot 10^1\n",
    "+ 7 \\cdot 10^0\n",
    "+ 2 \\cdot 10^{-1}\n",
    "+ 3 \\cdot 10^{-2}\n",
    "+ 4 \\cdot 10^{-3}\n",
    "+ 6 \\cdot 10^{-4}\n",
    "$$\n",
    "using $10$ as base (decimal system). \n",
    "\n",
    "In general for any $\\beta \\in \\NN$, $\\beta \\geqslant 2$, we use\n",
    "the _positional representation_\n",
    "$$\n",
    "x_{\\beta} = (-1)^s [ a_n a_{n-1}\\ldots a_0.a_{-1}x_{-2}\\ldots a_{-m} ]\n",
    "$$\n",
    "\n",
    "with $a_n \\neq 0$ to represent the number\n",
    "\n",
    "$$\n",
    "x_{\\beta} = \\sum_{k=-m}^n a_k \\beta^{k} \n",
    "$$\n",
    "with respect to _base_ $\\beta$. The $a_k$ are called the _digits_ in this representation. Finally, $s \\in \\{0,1\\}$ defines the sign of the number.\n"
   ]
  },
  {
   "cell_type": "markdown",
   "metadata": {},
   "source": [
    "__Exercise 1__:  Write down the position representation of the number $3\\frac{2}{3}$ for\n",
    "both the base $\\beta=10$ and $\\beta=3$."
   ]
  },
  {
   "cell_type": "markdown",
   "metadata": {},
   "source": [
    "To represent numbers on a computer, the most common bases are $\\beta = 2$ (binary),\n",
    "$\\beta=10$ (decimal) and $\\beta = 16$ (hexidecimal). For the latter one, one uses\n",
    "$1,2,\\ldots, 9$, A,B,C,D,E,F to represent the digits.\n",
    "\n",
    "The point between $a_0$ and $a_{-1}$ is called \"binary point\", \"decimal point\" depending on the bases."
   ]
  },
  {
   "cell_type": "markdown",
   "metadata": {},
   "source": [
    "__Fix-point system__\n",
    "\n",
    "Use $N=n+m$ digits/memory locations to store the number $x$ written as above.\n",
    "Since the binary/decimal point is _fixed_ , it is difficult to represent large numbers $\\geqslant \\beta^{n+1}$ or small numbers $ < \\beta^{-m}$.\n",
    "\n",
    "E.g. nowdays we often use 16 digits in a computer, if you distributed that evenly \n",
    "to present same number of digits before and after the decimal point, the range or representable numbers is between\n",
    "$10^9$ and $10^{-8}$ __This is very inconvenient__! \n",
    "\n",
    "Also, small numbers which are located\n",
    "towards the lower end of this cannot be as accuractely represented as number close\n",
    "it leads to a\n",
    "relatively accurate representation of numbers which\n",
    "\n",
    "__Floating point system__\n",
    "\n",
    "Returning to our first example: \n",
    "$$\n",
    "145397.2346 \n",
    "= 0.1453972346 \\cdot 10^{6}\n",
    "= 1453972346 \\cdot 10^{6-10}\n",
    "$$\n",
    "\n",
    "In general w\n",
    "$$\n",
    "x = (-1)^s 0.a_1 a_2 \\ldots a_t \\beta^e \n",
    "  = (-1)^s \\cdot m \\cdot \\beta^{e - t} \n",
    "$$\n",
    "Here, $t \\in \\NN$ is the number of _significant digits_ and $e$ is an integer called the\n",
    "_exponent_ and the integer \n",
    "\n",
    "$$\n",
    "m = a_1 a_2 \\ldots a_t \\in \\NN\n",
    "$$\n",
    "\n",
    "is also known as the _mantissa_. So\n",
    "\n",
    "* Exponent $e$ defines the _scale_ of the represented number,\n",
    "  typically, $e \\in \\{e_{\\mathrm{min}}, \\ldots, e_{\\mathrm{max}}\\}$,\n",
    "  with $e_{\\mathrm{min}} < 0$ and $e_{\\mathrm{max}} > 0$.\n",
    "* Number of significant digits $t$ defines the _relative accuracy_.\n",
    "\n",
    "We define the __finite__ set of available _floating point numbers_\n",
    "$$\n",
    " \\FF(\\beta,t, e_{\\mathrm{min}}, e_{\\mathrm{max}})\n",
    " = \\{0 \\} \\cup \\left\\{  x \\in \\RR: x = (-1)^s\\beta^e \\sum_{i=1}^t a_i \\beta^{-i}, e_{\\mathrm{min}} \\leqslant e \\leqslant e_{\\mathrm{max}}, 0 \\leqslant a_i \\leqslant \\beta - 1  \\right\\}\n",
    "$$\n",
    "\n",
    "* Typically to enforce a unique representation, one requires that $a_1 \\neq 0$ for\n",
    "non-zero numbers"
   ]
  },
  {
   "cell_type": "markdown",
   "metadata": {},
   "source": [
    "__Exercise__:\n",
    "\n",
    "What is the smallest and the largest number you can represent with $\\FF$?\n",
    "\n",
    "Show that the answer is\n",
    "$$\n",
    "\\beta^{e_{\\mathrm{min}}-1} \n",
    "\\leqslant |x| \n",
    "\\leqslant \\beta^{e_{\\mathrm{max}}}(1-\\beta^{-t})\n",
    "\\quad\\text{for } x \\in \\FF.\n",
    "$$\n"
   ]
  },
  {
   "cell_type": "markdown",
   "metadata": {},
   "source": [
    "__Conclusion:__\n",
    "\n",
    "* Every number $x$ satifying $\\beta^{e_{\\mathrm{min}}-1} \n",
    "\\leqslant |x| \n",
    "\\leqslant \\beta^{e_{\\mathrm{max}}}(1-\\beta^{-t})$ but which is __not__ in $\\FF$\n",
    "can be represented by a floating point number $\\fl(x)$ by rounding off to the closest number in $\\FF$.\n",
    "\n",
    "* Relative _machine precision_ is \n",
    "$$\n",
    "\\dfrac{|x-\\fl(x)|}{|x|} \\leqslant \\epsilon := \\frac{\\beta^{1-t}}{2}\n",
    "$$\n",
    "\n",
    "* $|x| < \\beta^{e_{\\mathrm{min}}-1}$ leads to _underflow_.\n",
    "* $|x| > \\beta^{e_{\\mathrm{max}}}(1-\\beta^{-t})$ leads to _overflow_.\n",
    "\n",
    "Standard machine presentations nowadays using\n",
    "* Single precision, allowing for 7-8 sigificant digits\n",
    "* Double precision, allowing for 16 sigificant digits"
   ]
  },
  {
   "cell_type": "markdown",
   "metadata": {},
   "source": [
    "__Question__:\n",
    "When solving a linear system\n",
    "$$\n",
    "A \\bfx = \\bfb\n",
    "$$\n",
    "how are initial errors in $A$ or $\\bfb$ (e.g. caused by using floating point numbers) propagated\n",
    "through the solution process? E.g imaging your rhs vector $\\bfb$ is perturbated $\\bfb + \\delta \\bfb$. Here, we have to distinguish 2 things:\n",
    "\n",
    "* How does the _actual_ solution $\\bfx$ changes (granted you could solve $A \\bfx = \\bfb$ exactly)?\n",
    "\n",
    "* How does the _computed_ or _numerical_ solution changes? E.g. rhe Gaussian Elimination Method involves a number of floating point operations $\\{ + , - , \\cdot, /\\}$ which introduces errors as well.\n",
    "\n",
    "* Simple example: The number $1$ and $3$ can be perfectly represented in a decimal based floating point system, but the result of the operation $1/3 = 0.333333333\\ldots$ cannot."
   ]
  },
  {
   "cell_type": "markdown",
   "metadata": {},
   "source": [
    "## 3. Condition Numbers"
   ]
  },
  {
   "cell_type": "markdown",
   "metadata": {},
   "source": [
    "$A\\bfx = \\bfb$ can be rewritten as $A\\bfx - \\bfb = \\bfzero$. Generally, we can consider the folling problem: For some given data $d$, find $x$ such that\n",
    "$$\n",
    "F(x,d) = 0\n",
    "$$\n",
    "where $F$ is a function which relates the data $d$ with an unknown $x$."
   ]
  },
  {
   "cell_type": "markdown",
   "metadata": {},
   "source": [
    "Let $D$ be the set of _admissible data_ for which the problem $F(x,d) = 0$ admits\n",
    "a unique solution $x \\in X$ in the solution space $X$. We can then introduce the _resolvent_ $G$ which is simply maps \n",
    "given data $d\\in D$ to its solution $x$\n",
    "$$\n",
    "D \\ni d \\mapsto G(d) = x \\in X.\n",
    "$$\n",
    "\n",
    "We want to quantify how changing the input data from $d$ to $d + \\delta d$ changes the outcome/solution from $x$ to some $x + \\delta x$.\n",
    "\n",
    "Ideally, small changes in the data only causes small changes in the solution. Let's quantify that."
   ]
  },
  {
   "cell_type": "markdown",
   "metadata": {},
   "source": [
    "### Condition numbers\n",
    "\n",
    "__Relative local condition number__\n",
    "\\begin{align*}\n",
    "K(d) &=\n",
    "\\sup \n",
    "\\left\\{ \n",
    "\\dfrac{\\|\\delta x\\| / \\|x\\|}{\\|\\delta d \\|/\\|d\\|},\n",
    "\\delta d \\neq 0, d+\\delta d \\in D\n",
    "\\right\\}\n",
    "\\\\\n",
    "&= \\sup \n",
    "\\left\\{ \n",
    "\\dfrac{\\|G(d) - G(d+ \\delta d)\\| / \\|G(d)\\|}{\\|\\delta d \\|/\\|d\\|},\n",
    "\\delta d \\neq 0, d+\\delta d \\in D\n",
    "\\right\\}\n",
    "\\end{align*}\n",
    "\n",
    "It allows to estimate the _relative error_ of the solution caused\n",
    "by some _relative error_ in the data:\n",
    "\n",
    "$$\n",
    "\\|\\delta x\\| / \\|x\\| \n",
    "\\leqslant K(d)  \\|\\delta d \\|/\\|d\\|\n",
    "$$"
   ]
  },
  {
   "cell_type": "markdown",
   "metadata": {},
   "source": [
    "Whenever $x = 0$ or $d=0$ we can use the\n",
    "\n",
    "__Absolute local condition number__\n",
    "\\begin{align*}\n",
    "K_{abs}(d) &=\n",
    "\\sup \n",
    "\\left\\{ \n",
    "\\dfrac{\\|\\delta x\\|}{\\|\\delta d \\|},\n",
    "\\delta d \\neq 0, d+\\delta d \\in D\n",
    "\\right\\}\n",
    "\\\\\n",
    "&= \\sup \n",
    "\\left\\{ \n",
    "\\dfrac{\\|G(d) - G(d+ \\delta d)\\|}{\\|\\delta d \\|},\n",
    "\\delta d \\neq 0, d+\\delta d \\in D\n",
    "\\right\\}\n",
    "\\end{align*}\n",
    "\n",
    "Similar, tt allows to estimate the _absolute error_ of the solution caused\n",
    "by some _absolute error_ in the data:\n",
    "\n",
    "$$\n",
    "\\|\\delta x\\| \n",
    "\\leqslant K(d)  \\|\\delta d \\|\n",
    "$$\n"
   ]
  },
  {
   "cell_type": "markdown",
   "metadata": {},
   "source": [
    "Often we are mainly interested in quantifying what happens when _small_ changes are introduced. If the resolvent is differentiable, we know that\n",
    "$$\n",
    "G(d + \\delta d) - G(d) = G'(d)\\delta d + o(\\| \\delta d\\|) \\quad \\text{for } \\delta d \\to 0.  \n",
    "$$\n",
    "which is the same as saying that\n",
    "$$\n",
    "\\dfrac{G(d + \\delta d) - G(d) - G'(d)\\delta d}{\\| \\delta d\\|} \\to 0 \\quad \\text{for } \\delta d \\to 0. \n",
    "$$"
   ]
  },
  {
   "cell_type": "markdown",
   "metadata": {},
   "source": [
    "So asymptotically for $\\delta d \\to 0$ the local and absolute condition numbers behave like\n",
    "$$\n",
    "K(d) \\simeq \\|G'(d)\\| \\dfrac{\\|d\\|}{\\|G(d)\\|} \\quad \\text{for } \\delta d \\to 0.  \n",
    "$$\n",
    "and\n",
    "$$\n",
    "K_{abs}(d) \\simeq \\| G'(d)\\| \\quad \\text{for } \\delta d \\to 0.  \n",
    "$$"
   ]
  },
  {
   "cell_type": "markdown",
   "metadata": {},
   "source": [
    "__Definition__\n",
    "\n",
    "A problem $F(x,d) = 0$ is call __ill-conditioning__ if the condition number $K(d)$ is \"large\"."
   ]
  },
  {
   "cell_type": "markdown",
   "metadata": {},
   "source": [
    "__Example 1:__\n",
    "\n",
    "Turning back to our linear system $A \\bfx = \\bfb $.\n",
    "First recall the the p-norm for $\\bfx \\in \\RR^n$:\n",
    "$$ \n",
    "\\| \\bfx \\|_p = \\left\\{\\sum_{i-1}^{n} |x_i|^p \\right\\}^{1/p}\n",
    "$$\n",
    "\n",
    "The corresponding matrix norm $\\|A\\|_p$ is given by \n",
    "$$\n",
    "\\| A \\|_p = \\sup_{\\bfx \\in \\RR^n\\setminus\\{\\bfzero\\}} \\dfrac{\\|A \\bfx\\|_{p}}{\\|\\bfx\\|_p}\n",
    "$$ \n",
    "\n",
    "Note that number $\\|A\\|_p$ satisfies\n",
    "$$\n",
    "\\|A \\bfx \\|_p \\leqslant \\|A\\|_p \\|\\bfx\\|_p \\forall \\bfx \\in \\RR^n.\n",
    "$$\n",
    "and it is in fact smallest number to do so."
   ]
  },
  {
   "cell_type": "markdown",
   "metadata": {},
   "source": [
    "Next imagine that we only perturb the rhs $\\bfb$. With $\\bfb = d$, we have that \n",
    "$$\n",
    "\\bfx = G(\\bfb) = A^{-1} \\bfb\n",
    "$$\n",
    "so\n",
    "$$\n",
    "G'(\\bfb) = A^{-1}\n",
    "$$\n",
    "\n",
    "$$\n",
    "K(d) \\simeq \\| A^{-1} \\|\\dfrac{\\|\\bfb\\|}{\\|A^{-1}\\bfb\\|}\n",
    "= \\| A^{-1}\\| \\dfrac{\\|A \\bfx \\|}{\\|\\bfx\\|}\n",
    "\\leqslant  \\|A^{-1} \\| \\|A\\|\n",
    "$$\n",
    "\n",
    "That  leads to the \n",
    "\n",
    "__Definition__:\n",
    "\n",
    "If $A$ is invertible \n",
    "The number $\\kappa_p(A) := \\|A^{-1} \\|_p \\|A\\|_p$ is called the the condition\n",
    "number of $A$ (with respect to the p-norm)\n"
   ]
  },
  {
   "cell_type": "markdown",
   "metadata": {},
   "source": [
    "## Problem"
   ]
  },
  {
   "cell_type": "markdown",
   "metadata": {},
   "source": [
    "In Lab 01, problem 3, you have already encountered the Hilbert matrix,\n",
    "and may have already seen that it can lead to extremely wrong result\n",
    "when $n~15$. \n",
    "\n",
    "Now pair up in teams of 2-3 students and write a small script \n",
    "to study the effect of perturbating $\\bfb$ on the solution $\\bfx$ when solving\n",
    "$$\n",
    "H(n) \\bfx = \\bfb\n",
    "$$\n",
    "You can use the ```lu_solve``` and ```lu_factor``` built-in functions in scipy to solve your system. A short but complete code snippet of how to use ```lu_solve``` in combination with ```lu_factor``` can be found at the bottom of [this page](https://docs.scipy.org/doc/scipy-1.3.0/reference/generated/scipy.linalg.lu_solve.html?highlight=lu_solve#scipy.linalg.lu_solve)\n",
    "\n",
    "Start with"
   ]
  },
  {
   "cell_type": "code",
   "execution_count": 3,
   "metadata": {},
   "outputs": [],
   "source": [
    "from scipy.linalg import lu_factor, lu_solve, hilbert"
   ]
  }
 ],
 "metadata": {
  "kernelspec": {
   "display_name": "Python 3",
   "language": "python",
   "name": "python3"
  },
  "language_info": {
   "codemirror_mode": {
    "name": "ipython",
    "version": 3
   },
   "file_extension": ".py",
   "mimetype": "text/x-python",
   "name": "python",
   "nbconvert_exporter": "python",
   "pygments_lexer": "ipython3",
   "version": "3.7.3"
  }
 },
 "nbformat": 4,
 "nbformat_minor": 2
}
