{
 "cells": [
  {
   "cell_type": "markdown",
   "metadata": {},
   "source": [
    "# Polynomial Interpolation"
   ]
  },
  {
   "cell_type": "code",
   "execution_count": null,
   "metadata": {
    "collapsed": true
   },
   "outputs": [],
   "source": [
    "# Arrary and stuff \n",
    "import numpy as np\n",
    "# Linear algebra solvers from scipy\n",
    "import scipy.linalg as la\n",
    "# Basic plotting routines from the matplotlib library \n",
    "import matplotlib.pyplot as plt"
   ]
  },
  {
   "cell_type": "markdown",
   "metadata": {},
   "source": [
    "**a)** For the interval $I = [-2,2] \\subset \\mathbb{R}$ and the three nodal point $\\{\\xi_i\\}_{i=0}^2 = \\{ -2, 0, 2\\}$, calculate by hand the Lagrange basis functions $\\{\\lambda_i(x)\\}_{i=0}^2$ of order $2$ satisfying \n",
    "\n",
    "$$\n",
    "\\lambda_i(\\xi_j) =\n",
    "\\begin{cases}\n",
    "1 &\\quad \\text{if } i=j\n",
    "\\\\\n",
    "0 &\\quad\\text{else}.\n",
    "\\end{cases}\n",
    "$$"
   ]
  },
  {
   "cell_type": "markdown",
   "metadata": {},
   "source": [
    "**b)** Next, given $N+1$ uniformly distributed\n",
    "nodes $\\{\\xi_i\\}_{i=1}^N$ on $[-2,2]$ with $\\xi_0 = -2$\n",
    "$\\xi_N = 2$, write a function which can compute and plot all Lagrange basis functions $\\{\\lambda_i\\}_{i=0}^N$. To make your live easy, use the interpolation functionality baked into the scipy python module, see code snippets below."
   ]
  },
  {
   "cell_type": "markdown",
   "metadata": {},
   "source": [
    "**c)** Experiement with your brand new function you implemented in b) and see how the Lagrange basis functions look like when you increase the order $N$. In particular, provide separate figures for $N = 3,4, 7,8, 11, 12$, where each figure shows a plot of *all* basis function $\\{\\lambda_i\\}_{i=0}^N$ for that particular $N$. In theses figures, mark the nodal points on the $x$-axis clearly so that you can easily check whether your Lagrange basis functions satisfy $\\lambda_i(\\xi_j) = \\delta_{ij}$."
   ]
  },
  {
   "cell_type": "markdown",
   "metadata": {},
   "source": [
    "**d)** For the function $f(x) = \\sin(x)$ , compute the $𝑁$th-order Lagrange polynom  $\\pi^Nf $  satisfying $(\\pi^Nf)(\\xi_i) = f(\\xi_i)$  for  $i=0,…𝑁$ and plot both the exact function $f$ and its Lagrange interpolant $\\pi^Nf$ for $𝑁=3,4,7,8,11,12$  with one figure for each $N$. As before chose $I=[−2,2]$ and a uniform nodes distribution which includes the end point of the $I$ . What can you say about the maximum error $\\max_{x\\in [-2,2]}|\\pi^Nf(x)-f(x)|$ for increasning $N$?"
   ]
  },
  {
   "cell_type": "markdown",
   "metadata": {},
   "source": [
    "**e)** Now repeat the problem above with the function $f(x) = e^{-8x^2}$. What can you say about the error? Where does the error seem to concentrate?"
   ]
  },
  {
   "cell_type": "markdown",
   "metadata": {},
   "source": [
    "**f)** The Chebyshev nodes on the interval $[a,b]$ are defined as\n",
    "$$\n",
    "\\xi_i = \\dfrac{a+b}{2} + \\dfrac{b - a}{2} \\cos\\left(\\tfrac{i}{N}\\pi\\right),\\quad i=0,...,N.\n",
    "$$\n",
    "Repeat section **c)** but with the Chebyshev nodes. What is the difference in how the points are distributed? Do you notice anything different about the Lagrange functions?\n"
   ]
  },
  {
   "cell_type": "markdown",
   "metadata": {},
   "source": [
    "**g)** Now repeat section **e)** but with the Chebyshev nodes. What is the difference, compared with the uniformly distributed nodes?"
   ]
  },
  {
   "cell_type": "markdown",
   "metadata": {},
   "source": [
    "### Hints and Code Snippets\n"
   ]
  },
  {
   "cell_type": "markdown",
   "metadata": {},
   "source": [
    "Interpolation functionality can be found in the module scipy.interpolate module,\n",
    "see https://docs.scipy.org/doc/scipy-0.19.1/reference/interpolate.html\n",
    "and in particular the documentation for the [scipy.interpolate.lagrange](\n",
    "https://docs.scipy.org/doc/scipy-0.19.1/reference/generated/scipy.interpolate.lagrange.html#scipy.interpolate.lagrange)\n",
    "function. Note that this function will choose the polynomial order based on the number\n",
    "of nodal/data points you pass to it. So if you pass $k$ data points, the interpolation polynomial\n",
    "will be of order $k-1$."
   ]
  },
  {
   "cell_type": "code",
   "execution_count": null,
   "metadata": {
    "collapsed": true
   },
   "outputs": [],
   "source": [
    "import scipy.interpolate as ip"
   ]
  },
  {
   "cell_type": "markdown",
   "metadata": {},
   "source": [
    "Lagrange interpolation polynom can be computed like this."
   ]
  },
  {
   "cell_type": "code",
   "execution_count": null,
   "metadata": {
    "collapsed": true
   },
   "outputs": [],
   "source": [
    "# x_nodes is a 1 dimensional array containing the nodal points\n",
    "# nodal_values is a 1 dimensional array containing the values of the\n",
    "# function to be interpolated at the nodal points\n",
    "L = ip.lagrange(x_nodes,nodal_values)"
   ]
  },
  {
   "cell_type": "markdown",
   "metadata": {},
   "source": [
    "Observe that you can compute the Lagrange basis functions $\\lambda_i$ associated\n",
    "with node $\\xi_i$ by simply passing a \"nodal_values\" array which is $1$ for index $i$ and $0$ otherwise."
   ]
  }
 ],
 "metadata": {
  "anaconda-cloud": {},
  "kernelspec": {
   "display_name": "Python 3",
   "language": "python",
   "name": "python3"
  },
  "language_info": {
   "codemirror_mode": {
    "name": "ipython",
    "version": 3
   },
   "file_extension": ".py",
   "mimetype": "text/x-python",
   "name": "python",
   "nbconvert_exporter": "python",
   "pygments_lexer": "ipython3",
   "version": "3.7.0"
  }
 },
 "nbformat": 4,
 "nbformat_minor": 1
}
